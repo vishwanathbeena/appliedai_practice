{
  "nbformat": 4,
  "nbformat_minor": 0,
  "metadata": {
    "colab": {
      "name": "5_Performance_metrics_Instructions.ipynb",
      "provenance": [],
      "collapsed_sections": [],
      "toc_visible": true,
      "include_colab_link": true
    },
    "language_info": {
      "codemirror_mode": {
        "name": "ipython",
        "version": 3
      },
      "file_extension": ".py",
      "mimetype": "text/x-python",
      "name": "python",
      "nbconvert_exporter": "python",
      "pygments_lexer": "ipython3",
      "version": "3.6.8"
    },
    "kernelspec": {
      "display_name": "Python 3",
      "language": "python",
      "name": "python3"
    }
  },
  "cells": [
    {
      "cell_type": "markdown",
      "metadata": {
        "id": "view-in-github",
        "colab_type": "text"
      },
      "source": [
        "<a href=\"https://colab.research.google.com/github/vishwanathbeena/appliedai_practice/blob/main/5_Performance_metrics_Instructions.ipynb\" target=\"_parent\"><img src=\"https://colab.research.google.com/assets/colab-badge.svg\" alt=\"Open In Colab\"/></a>"
      ]
    },
    {
      "cell_type": "markdown",
      "metadata": {
        "id": "s0Ej_bXyQvnV"
      },
      "source": [
        "# Compute performance metrics for the given Y and Y_score without sklearn"
      ]
    },
    {
      "cell_type": "code",
      "metadata": {
        "id": "4CHb6NE7Qvnc"
      },
      "source": [
        "import numpy as np\n",
        "import pandas as pd\n",
        "# other than these two you should not import any other packages"
      ],
      "execution_count": 1,
      "outputs": []
    },
    {
      "cell_type": "markdown",
      "metadata": {
        "id": "KbsWXuDaQvnq"
      },
      "source": [
        "<pre>\n",
        "<font color='red'><b>A.</b></font> Compute performance metrics for the given data <strong>5_a.csv</strong>\n",
        "   <b>Note 1:</b> in this data you can see number of positive points >> number of negatives points\n",
        "   <b>Note 2:</b> use pandas or numpy to read the data from <b>5_a.csv</b>\n",
        "   <b>Note 3:</b> you need to derive the class labels from given score</pre> $y^{pred}= \\text{[0 if y_score < 0.5 else 1]}$\n",
        "\n",
        "<pre>\n",
        "<ol>\n",
        "<li> Compute Confusion Matrix </li>\n",
        "<li> Compute F1 Score </li>\n",
        "<li> Compute AUC Score, you need to compute different thresholds and for each threshold compute tpr,fpr and then use               numpy.trapz(tpr_array, fpr_array) <a href='https://stackoverflow.com/q/53603376/4084039'>https://stackoverflow.com/q/53603376/4084039</a>, <a href='https://stackoverflow.com/a/39678975/4084039'>https://stackoverflow.com/a/39678975/4084039</a> Note: it should be numpy.trapz(tpr_array, fpr_array) not numpy.trapz(fpr_array, tpr_array)</li>\n",
        "<li> Compute Accuracy Score </li>\n",
        "</ol>\n",
        "</pre>"
      ]
    },
    {
      "cell_type": "code",
      "metadata": {
        "id": "g8iwQTIvrMS8"
      },
      "source": [
        "def get_predition_col(df,threshold):\n",
        "  df['y_pred'] = np.where(df['proba'] < threshold,0.0,1.0 )\n",
        "  func = np.vectorize(res_type)\n",
        "  df['res_type'] = func(df['y'],df['y_pred'])\n",
        "  return df\n"
      ],
      "execution_count": 2,
      "outputs": []
    },
    {
      "cell_type": "code",
      "metadata": {
        "id": "YnzFiHvuta5D"
      },
      "source": [
        "def res_type(y,y_pred):\n",
        "  if y == y_pred and y == 1.0:\n",
        "      val = 'TP'\n",
        "  if y == y_pred and y == 0.0:\n",
        "    val = 'TN'\n",
        "  if y == 1.0 and y_pred == 0.0:\n",
        "    val = 'FN'\n",
        "  if y == 0.0 and y_pred == 1.0:\n",
        "    val = 'FP'\n",
        "  return val\n"
      ],
      "execution_count": 3,
      "outputs": []
    },
    {
      "cell_type": "code",
      "metadata": {
        "id": "V4AA1ZOByU1N"
      },
      "source": [
        "def create_confusion_matrxi(df):\n",
        "  confusion_atrix = np.zeros((2,2))\n",
        "  confusion_atrix[0][0] = len(df[df['res_type'] == 'TP'])\n",
        "  confusion_atrix[0][1] = len(df[df['res_type'] == 'FN'])\n",
        "  confusion_atrix[1][0] = len(df[df['res_type'] == 'FP'])\n",
        "  confusion_atrix[1][1] = len(df[df['res_type'] == 'TN'])\n",
        "  return confusion_atrix\n",
        "def get_metrics(cfmat):\n",
        "  precision = (cfmat[0][0])/(cfmat[0][0] + cfmat[1][0] )\n",
        "  recall = (cfmat[0][0])/(cfmat[0][0] + cfmat[0][1] )\n",
        "  f1_score = ( 2 * precision * recall )/(precision + recall)\n",
        "  accuracy = (cfmat[0][0] +cfmat[1][1])/(cfmat[0][0] + cfmat[0][1] + cfmat[1][0] + cfmat[1][1])\n",
        "  return f1_score,accuracy,precision,recall\n",
        "\n",
        "def get_auc_metris(cfmat):\n",
        "  tpr = (cfmat[0][0])/(cfmat[0][0] + cfmat[0][1] )\n",
        "  fpr = (cfmat[1][0])/(cfmat[1][0] + cfmat[1][1] )\n",
        "  return tpr,fpr\n"
      ],
      "execution_count": 4,
      "outputs": []
    },
    {
      "cell_type": "code",
      "metadata": {
        "colab": {
          "base_uri": "https://localhost:8080/",
          "height": 0
        },
        "id": "GnlAOJY-3iAw",
        "outputId": "e914e83f-2e21-47b5-dd23-68c5526e0200"
      },
      "source": [
        "#%load_ext line_profiler\n",
        "df = pd.read_csv('/content/5_a.csv')\n",
        "df2 = df.copy()\n",
        "#%lprun -f get_predition_col get_predition_col(df,0.5)\n",
        "df = get_predition_col(df,0.5)\n",
        "cfmat = create_confusion_matrxi(df)\n",
        "print(cfmat)\n",
        "f1_score,accuracy,precision,recall = get_metrics(cfmat)\n",
        "tpr,fpr = get_auc_metris(cfmat)\n",
        "print('f1_score is {}'.format(f1_score))\n",
        "print('accuracy is {}'.format(accuracy))\n",
        "print('tpr is {}'.format(tpr))\n",
        "print('fpr is {}'.format(fpr))\n"
      ],
      "execution_count": 13,
      "outputs": [
        {
          "output_type": "stream",
          "text": [
            "[[10000.     0.]\n",
            " [  100.     0.]]\n",
            "f1_score is 0.9950248756218906\n",
            "accuracy is 0.9900990099009901\n",
            "tpr is 1.0\n",
            "fpr is 1.0\n"
          ],
          "name": "stdout"
        }
      ]
    },
    {
      "cell_type": "code",
      "metadata": {
        "id": "aqG1FCi1BWjJ"
      },
      "source": [
        "#%load_ext line_profiler\n",
        "unique_prob = np.sort(df2['proba'].unique())\n",
        "#unique_prob = unique_prob[:100]\n",
        "tpr_arr = np.zeros(len(unique_prob))\n",
        "fpr_arr = np.zeros(len(unique_prob))\n",
        "for idx,proba in enumerate(unique_prob):\n",
        "  df2 = get_predition_col(df2,proba)\n",
        "  #%lprun -f get_predition_col get_predition_col(df2,proba)\n",
        "  cfmat = create_confusion_matrxi(df2)\n",
        "  tpr,fpr = get_auc_metris(cfmat)\n",
        "  tpr_arr[idx]=tpr\n",
        "  fpr_arr[idx]=fpr\n",
        "\n",
        "\n"
      ],
      "execution_count": 18,
      "outputs": []
    },
    {
      "cell_type": "code",
      "metadata": {
        "colab": {
          "base_uri": "https://localhost:8080/",
          "height": 0
        },
        "id": "MNGyAZADGt6F",
        "outputId": "6a1def5b-1da7-4f26-860a-6078d7d5192b"
      },
      "source": [
        "df2.head(10)\n",
        "auc = np.trapz(tpr_arr,fpr_arr)\n",
        "print(auc) #AUC calculated is -0.48829900000000004,Why is it negative??"
      ],
      "execution_count": 19,
      "outputs": [
        {
          "output_type": "stream",
          "text": [
            "-0.48829900000000004\n"
          ],
          "name": "stdout"
        }
      ]
    },
    {
      "cell_type": "code",
      "metadata": {
        "colab": {
          "base_uri": "https://localhost:8080/",
          "height": 337
        },
        "id": "0x1C68_qjpf0",
        "outputId": "44616d73-dffb-4b30-dafb-fdc56224073f"
      },
      "source": [
        "import seaborn as  sns\n",
        "import matplotlib.pyplot as plt\n",
        "sns.lineplot(fpr_arr,tpr_arr)\n",
        "plt.plot() #"
      ],
      "execution_count": 20,
      "outputs": [
        {
          "output_type": "stream",
          "text": [
            "/usr/local/lib/python3.7/dist-packages/seaborn/_decorators.py:43: FutureWarning: Pass the following variables as keyword args: x, y. From version 0.12, the only valid positional argument will be `data`, and passing other arguments without an explicit keyword will result in an error or misinterpretation.\n",
            "  FutureWarning\n"
          ],
          "name": "stderr"
        },
        {
          "output_type": "execute_result",
          "data": {
            "text/plain": [
              "[]"
            ]
          },
          "metadata": {
            "tags": []
          },
          "execution_count": 20
        },
        {
          "output_type": "display_data",
          "data": {
            "image/png": "[encoded data removed]",
            "text/plain": [
              "<Figure size 432x288 with 1 Axes>"
            ]
          },
          "metadata": {
            "tags": [],
            "needs_background": "light"
          }
        }
      ]
    },
    {
      "cell_type": "markdown",
      "metadata": {
        "id": "V5KZem1BQvn2"
      },
      "source": [
        "<pre>\n",
        "<font color='red'><b>B.</b></font> Compute performance metrics for the given data <strong>5_b.csv</strong>\n",
        "   <b>Note 1:</b> in this data you can see number of positive points << number of negatives points\n",
        "   <b>Note 2:</b> use pandas or numpy to read the data from <b>5_b.csv</b>\n",
        "   <b>Note 3:</b> you need to derive the class labels from given score</pre> $y^{pred}= \\text{[0 if y_score < 0.5 else 1]}$\n",
        "\n",
        "<pre>\n",
        "<ol>\n",
        "<li> Compute Confusion Matrix </li>\n",
        "<li> Compute F1 Score </li>\n",
        "<li> Compute AUC Score, you need to compute different thresholds and for each threshold compute tpr,fpr and then use               numpy.trapz(tpr_array, fpr_array) <a href='https://stackoverflow.com/q/53603376/4084039'>https://stackoverflow.com/q/53603376/4084039</a>, <a href='https://stackoverflow.com/a/39678975/4084039'>https://stackoverflow.com/a/39678975/4084039</a></li>\n",
        "<li> Compute Accuracy Score </li>\n",
        "</ol>\n",
        "</pre>"
      ]
    },
    {
      "cell_type": "code",
      "metadata": {
        "id": "U2sKlq0YQvn5",
        "colab": {
          "base_uri": "https://localhost:8080/",
          "height": 0
        },
        "outputId": "0b6865d7-e8c8-4e55-91ae-1b908058da79"
      },
      "source": [
        "# write your code\n",
        "df_b = pd.read_csv('/content/5_b.csv')\n",
        "df2_b = df_b.copy()\n",
        "#%lprun -f get_predition_col get_predition_col(df,0.5)\n",
        "df_b = get_predition_col(df_b,0.5)\n",
        "cfmat = create_confusion_matrxi(df_b)\n",
        "print(cfmat)\n",
        "f1_score,accuracy,precision,recall = get_metrics(cfmat)\n",
        "tpr,fpr = get_auc_metris(cfmat)\n",
        "print('f1_score is {}'.format(f1_score))\n",
        "print('accuracy is {}'.format(accuracy))\n",
        "print('tpr is {}'.format(tpr))\n",
        "print('fpr is {}'.format(fpr))\n",
        "\n",
        "unique_prob = np.sort(df2_b['proba'].unique())\n",
        "tpr_arr_b = np.zeros(len(unique_prob))\n",
        "fpr_arr_b = np.zeros(len(unique_prob))\n",
        "for idx,proba in enumerate(unique_prob):\n",
        "  df2_b = get_predition_col(df2_b,proba)\n",
        "  #%lprun -f get_predition_col get_predition_col(df2,proba)\n",
        "  cfmat = create_confusion_matrxi(df2_b)\n",
        "  tpr,fpr = get_auc_metris(cfmat)\n",
        "  tpr_arr_b[idx]=tpr\n",
        "  fpr_arr_b[idx]=fpr\n",
        "auc = np.trapz(tpr_arr_b,fpr_arr_b)\n",
        "print(auc)"
      ],
      "execution_count": 21,
      "outputs": [
        {
          "output_type": "stream",
          "text": [
            "[[  55.   45.]\n",
            " [ 239. 9761.]]\n",
            "f1_score is 0.2791878172588833\n",
            "accuracy is 0.9718811881188119\n",
            "tpr is 0.55\n",
            "fpr is 0.0239\n",
            "-0.937757\n"
          ],
          "name": "stdout"
        }
      ]
    },
    {
      "cell_type": "code",
      "metadata": {
        "colab": {
          "base_uri": "https://localhost:8080/",
          "height": 337
        },
        "id": "iUXTDH1Kwqmb",
        "outputId": "5c645b5e-9b08-49a9-f6d2-b9641718185e"
      },
      "source": [
        "import seaborn as  sns\n",
        "import matplotlib.pyplot as plt\n",
        "sns.lineplot(fpr_arr_b,tpr_arr_b)\n",
        "plt.plot() "
      ],
      "execution_count": 22,
      "outputs": [
        {
          "output_type": "stream",
          "text": [
            "/usr/local/lib/python3.7/dist-packages/seaborn/_decorators.py:43: FutureWarning: Pass the following variables as keyword args: x, y. From version 0.12, the only valid positional argument will be `data`, and passing other arguments without an explicit keyword will result in an error or misinterpretation.\n",
            "  FutureWarning\n"
          ],
          "name": "stderr"
        },
        {
          "output_type": "execute_result",
          "data": {
            "text/plain": [
              "[]"
            ]
          },
          "metadata": {
            "tags": []
          },
          "execution_count": 22
        },
        {
          "output_type": "display_data",
          "data": {
            "image/png": "[encoded data removed]",
            "text/plain": [
              "<Figure size 432x288 with 1 Axes>"
            ]
          },
          "metadata": {
            "tags": [],
            "needs_background": "light"
          }
        }
      ]
    },
    {
      "cell_type": "markdown",
      "metadata": {
        "id": "GiPGonTzQvoB"
      },
      "source": [
        "<font color='red'><b>C.</b></font> Compute the best threshold (similarly to ROC curve computation) of probability which gives lowest values of metric <b>A</b> for the given data <strong>5_c.csv</strong>\n",
        "<br>\n",
        "\n",
        "you will be predicting label of a data points like this: $y^{pred}= \\text{[0 if y_score < threshold  else 1]}$\n",
        "\n",
        "$ A = 500 \\times \\text{number of false negative} + 100 \\times \\text{numebr of false positive}$\n",
        "\n",
        "<pre>\n",
        "   <b>Note 1:</b> in this data you can see number of negative points > number of positive points\n",
        "   <b>Note 2:</b> use pandas or numpy to read the data from <b>5_c.csv</b>\n",
        "</pre>"
      ]
    },
    {
      "cell_type": "code",
      "metadata": {
        "id": "x5HIJzq1QvoE",
        "colab": {
          "base_uri": "https://localhost:8080/",
          "height": 0
        },
        "outputId": "06abe696-cd67-4697-96dd-7e89d9c8f177"
      },
      "source": [
        " # write your code\n",
        " #Changed the header from prob to proba o that I could re use the functions I hv written above.\n",
        " df_c = pd.read_csv('/content/5_c.csv')\n",
        " unique_prob_c = np.sort(df_c['proba'].unique())\n",
        " metric_list = []\n",
        " for idx,threshold in enumerate(unique_prob_c):\n",
        "   df_c = get_predition_col(df_c,threshold)\n",
        "   cfmat = create_confusion_matrxi(df_c)\n",
        "   #print(cfmat)\n",
        "   fn = cfmat[0][1]\n",
        "   fp = cfmat[1][0]\n",
        "   metric_list.append(((500 * fn) + (100 * fp)))\n",
        "print('Minimum value is {}'.format(min(metric_list)))\n",
        "min_index = metric_list.index(min(metric_list))\n",
        "print('Minimum value has been found at threshold {}'.format(unique_prob_c[min_index]))"
      ],
      "execution_count": 38,
      "outputs": [
        {
          "output_type": "stream",
          "text": [
            "Minimum value is 141000.0\n",
            "Minimum value has been found at threshold 0.2300390278970873\n"
          ],
          "name": "stdout"
        }
      ]
    },
    {
      "cell_type": "markdown",
      "metadata": {
        "id": "sD4CcgjXQvoL"
      },
      "source": [
        "<pre>\n",
        "<font color='red'><b>D.</b></font> Compute performance metrics(for regression) for the given data <strong>5_d.csv</strong>\n",
        "    <b>Note 2:</b> use pandas or numpy to read the data from <b>5_d.csv</b>\n",
        "    <b>Note 1:</b> <b>5_d.csv</b> will having two columns Y and predicted_Y both are real valued features\n",
        "<ol>\n",
        "<li> Compute Mean Square Error </li>\n",
        "<li> Compute MAPE: https://www.youtube.com/watch?v=ly6ztgIkUxk</li>\n",
        "<li> Compute R^2 error: https://en.wikipedia.org/wiki/Coefficient_of_determination#Definitions </li>\n",
        "</ol>\n",
        "</pre>"
      ]
    },
    {
      "cell_type": "code",
      "metadata": {
        "id": "KvEfx_x96dOl"
      },
      "source": [
        "df_d = pd.read_csv('/content/5_d.csv')\n",
        "y_mean = df_d['y'].mean()\n",
        "df_d['res'] = df_d['y'] - df_d['pred']\n",
        "df_d['mean_dist'] = df_d['y'] - y_mean\n"
      ],
      "execution_count": 49,
      "outputs": []
    },
    {
      "cell_type": "code",
      "metadata": {
        "colab": {
          "base_uri": "https://localhost:8080/",
          "height": 0
        },
        "id": "J3f6YcAQ7-k0",
        "outputId": "b9a2dbe1-6929-4fa1-9b41-371f9450c468"
      },
      "source": [
        "ss_tot = (df_d['mean_dist'] * df_d['mean_dist'] ).sum()\n",
        "ss_res = (df_d['res'] * df_d['res'] ).sum()\n",
        "MSE = (ss_res/len(df_d.index))\n",
        "R_squared = (1- (ss_res/ss_tot))\n",
        "MAPE = ((abs(df_d['res']).sum())/df_d['y'].sum())\n",
        "print('Mean Squared Eror is {}'.format(MSE))\n",
        "print('R-Squared is {}'.format(R_squared))\n",
        "print('MAPE is {}'.format(MAPE))\n",
        "\n",
        "\n"
      ],
      "execution_count": 51,
      "outputs": [
        {
          "output_type": "stream",
          "text": [
            "Mean Squared Eror is 177.16569974554707\n",
            "R-Squared is 0.9563582786990937\n",
            "MAPE is 0.1291202994009687\n"
          ],
          "name": "stdout"
        }
      ]
    },
    {
      "cell_type": "code",
      "metadata": {
        "colab": {
          "base_uri": "https://localhost:8080/",
          "height": 294
        },
        "id": "CE8jNBUV7HHI",
        "outputId": "959943ad-ea31-48e3-cdad-ab5098b5b7f6"
      },
      "source": [
        ""
      ],
      "execution_count": 41,
      "outputs": [
        {
          "output_type": "execute_result",
          "data": {
            "text/html": [
              "<div>\n",
              "<style scoped>\n",
              "    .dataframe tbody tr th:only-of-type {\n",
              "        vertical-align: middle;\n",
              "    }\n",
              "\n",
              "    .dataframe tbody tr th {\n",
              "        vertical-align: top;\n",
              "    }\n",
              "\n",
              "    .dataframe thead th {\n",
              "        text-align: right;\n",
              "    }\n",
              "</style>\n",
              "<table border=\"1\" class=\"dataframe\">\n",
              "  <thead>\n",
              "    <tr style=\"text-align: right;\">\n",
              "      <th></th>\n",
              "      <th>y</th>\n",
              "      <th>pred</th>\n",
              "    </tr>\n",
              "  </thead>\n",
              "  <tbody>\n",
              "    <tr>\n",
              "      <th>count</th>\n",
              "      <td>157200.000000</td>\n",
              "      <td>157200.000000</td>\n",
              "    </tr>\n",
              "    <tr>\n",
              "      <th>mean</th>\n",
              "      <td>66.562087</td>\n",
              "      <td>66.483715</td>\n",
              "    </tr>\n",
              "    <tr>\n",
              "      <th>std</th>\n",
              "      <td>63.714792</td>\n",
              "      <td>62.340840</td>\n",
              "    </tr>\n",
              "    <tr>\n",
              "      <th>min</th>\n",
              "      <td>0.000000</td>\n",
              "      <td>-6.000000</td>\n",
              "    </tr>\n",
              "    <tr>\n",
              "      <th>25%</th>\n",
              "      <td>11.000000</td>\n",
              "      <td>12.000000</td>\n",
              "    </tr>\n",
              "    <tr>\n",
              "      <th>50%</th>\n",
              "      <td>52.000000</td>\n",
              "      <td>52.000000</td>\n",
              "    </tr>\n",
              "    <tr>\n",
              "      <th>75%</th>\n",
              "      <td>104.000000</td>\n",
              "      <td>103.000000</td>\n",
              "    </tr>\n",
              "    <tr>\n",
              "      <th>max</th>\n",
              "      <td>440.000000</td>\n",
              "      <td>421.000000</td>\n",
              "    </tr>\n",
              "  </tbody>\n",
              "</table>\n",
              "</div>"
            ],
            "text/plain": [
              "                   y           pred\n",
              "count  157200.000000  157200.000000\n",
              "mean       66.562087      66.483715\n",
              "std        63.714792      62.340840\n",
              "min         0.000000      -6.000000\n",
              "25%        11.000000      12.000000\n",
              "50%        52.000000      52.000000\n",
              "75%       104.000000     103.000000\n",
              "max       440.000000     421.000000"
            ]
          },
          "metadata": {
            "tags": []
          },
          "execution_count": 41
        }
      ]
    }
  ]
}