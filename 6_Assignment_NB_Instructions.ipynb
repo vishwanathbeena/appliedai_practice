{
  "nbformat": 4,
  "nbformat_minor": 0,
  "metadata": {
    "colab": {
      "name": "6_Assignment_NB_Instructions.ipynb",
      "provenance": [],
      "collapsed_sections": [],
      "include_colab_link": true
    },
    "language_info": {
      "codemirror_mode": {
        "name": "ipython",
        "version": 3
      },
      "file_extension": ".py",
      "mimetype": "text/x-python",
      "name": "python",
      "nbconvert_exporter": "python",
      "pygments_lexer": "ipython3",
      "version": "3.6.8"
    },
    "kernelspec": {
      "display_name": "Python 3",
      "language": "python",
      "name": "python3"
    }
  },
  "cells": [
    {
      "cell_type": "markdown",
      "metadata": {
        "id": "view-in-github",
        "colab_type": "text"
      },
      "source": [
        "<a href=\"https://colab.research.google.com/github/vishwanathbeena/appliedai_practice/blob/main/6_Assignment_NB_Instructions.ipynb\" target=\"_parent\"><img src=\"https://colab.research.google.com/assets/colab-badge.svg\" alt=\"Open In Colab\"/></a>"
      ]
    },
    {
      "cell_type": "markdown",
      "metadata": {
        "id": "Dnubs-Nnb3cw"
      },
      "source": [
        "# Assignment 6: Apply NB"
      ]
    },
    {
      "cell_type": "markdown",
      "metadata": {
        "id": "RW0zYHb5m_wI"
      },
      "source": [
        "<ol>\n",
        "    <li>Minimum data points need to be considered for people having 4GB RAM is <strong>50k</strong> and for 8GB RAM is <strong>100k</strong></li>\n",
        "    <li>When you are using ramdomsearchcv or gridsearchcv you need not split the data into X_train,X_cv,X_test. As the above methods use kfold. The model will learn better if train data is more so splitting to X_train,X_test will suffice.</li>\n",
        "    <li>If you are writing for loops to tune your model then you need split the data into X_train,X_cv,X_test.</li>\n",
        "    <li>While splitting the data explore stratify parameter. </li>\n",
        "    <li><strong>Apply Multinomial NB on these feature sets</strong></li>\n",
        "        <ul>\n",
        "            <li>Features that need to be considered</li> \n",
        "                <dl>\n",
        "                  <dt>essay</dt>\n",
        "                    <dd>while encoding essay, try to experiment with the max_features and n_grams parameter of vectorizers and see if it increases AUC score.</dd>\n",
        "                  <dt>categorical features</dt>\n",
        "                  <dd> - teacher_prefix</dd>\n",
        "                  <dd> - project_grade_category</dd>\n",
        "                  <dd> - school_state</dd>\n",
        "                  <dd> - clean_categories</dd>\n",
        "                  <dd> - clean_subcategories</dd>\n",
        "                  <dt>numerical features</dt>\n",
        "                  <dd> - price</dd>\n",
        "                  <dd> - teacher_number_of_previously_posted_projects</dd>\n",
        "                  <dd>while encoding the numerical features check <a href='https://imgur.com/ldZA1zg'>this</a> and <a href='https://ac-classroom-production.s3.amazonaws.com/public/COMMENT/Annotation_2020-05-21_225912_0lyZzN8.jpg'>this</a></dd>\n",
        "                </dl>    \n",
        "            <li><font color='red'>Set 1</font>: categorical, numerical features + preprocessed_eassay (BOW)</li>\n",
        "            <li><font color='red'>Set 2</font>: categorical, numerical features + preprocessed_eassay (TFIDF)</li>\n",
        "        </ul>\n",
        "    <li><strong>The hyper paramter tuning(find best alpha:smoothing parameter)</strong>\n",
        "        <ul>\n",
        "    <li>Consider alpha values in range: 10^-5 to 10^2 like [0.00001,0.0005, 0.0001,0.005,0.001,0.05,0.01,0.1,0.5,1,5,10,50,100]</li>\n",
        "    <li>Explore class_prior = [0.5, 0.5] parameter which can be present in MultinomialNB function(go through <a href='https://scikit-learn.org/stable/modules/generated/sklearn.naive_bayes.MultinomialNB.html'>this</a> ) then check how results might change.\n",
        "    <li>Find the best hyper parameter which will give the maximum <a href='https://www.appliedaicourse.com/course/applied-ai-course-online/lessons/receiver-operating-characteristic-curve-roc-curve-and-auc-1/'>AUC</a> value</li>\n",
        "    <li>For hyper parameter tuning using k-fold cross validation(use GridsearchCV or RandomsearchCV)/simple cross validation data (write for loop to iterate over hyper parameter values)</li>\n",
        "    <li>You need to plot the performance of model both on train data and cross validation data for each hyper parameter, like shown in the figure\n",
        "    <img src='https://i.imgur.com/hUv6aEy.jpg' width=300px><dd>-while plotting take log(alpha) on your X-axis so that it will be more readable</dd></li>\n",
        "    <li>Once after you found the best hyper parameter, you need to train your model with it, and find the AUC on test data and plot the ROC curve on both train and test.\n",
        "    <img src='https://imgur.com/q2P65L5.jpg' width=300px></li>\n",
        "    <li>Along with plotting ROC curve, you need to print the <a href='https://www.appliedaicourse.com/course/applied-ai-course-online/lessons/confusion-matrix-tpr-fpr-fnr-tnr-1/'>confusion matrix</a> with predicted and original labels of test data points\n",
        "        <img src='https://i.imgur.com/IdN5Ctv.png' width=300px><dd>-plot the confusion matrix in heatmaps, while plotting the confusion matrix go through the <a href='https://stackoverflow.com/questions/61748441/how-to-fix-the-values-displayed-in-a-confusion-matrix-in-exponential-form-to-nor'>link </a>\n",
        "</dd></li>\n",
        "        </ul>\n",
        "<li>find the top 20 features from either from feature <font color='red'>Set 1</font> or feature <font color='red'>Set 2</font> using values of `feature_log_prob_ ` parameter of `MultinomialNB` \n",
        "(https://scikit-learn.org/stable/modules/generated/sklearn.naive_bayes.MultinomialNB.html) and print <strong>BOTH</strong> positive as well as negative corresponding feature names. <dd> - go through the <a href='https://imgur.com/mWvE7gj'>link </a> </dd>\n",
        "    </li>\n",
        "    <li>You need to summarize the results at the end of the notebook, summarize it in the table format\n",
        "        <img src='http://i.imgur.com/YVpIGGE.jpg' width=400px>\n",
        "    </li>\n",
        "</ol>"
      ]
    },
    {
      "cell_type": "code",
      "metadata": {
        "id": "chpSjDaXm9KG"
      },
      "source": [
        ""
      ],
      "execution_count": 146,
      "outputs": []
    },
    {
      "cell_type": "markdown",
      "metadata": {
        "id": "inzYCIaib3c3"
      },
      "source": [
        "<h1>2. Naive Bayes </h1>"
      ]
    },
    {
      "cell_type": "markdown",
      "metadata": {
        "id": "FYqCIxzFb3c5"
      },
      "source": [
        "## 1.1 Loading Data"
      ]
    },
    {
      "cell_type": "code",
      "metadata": {
        "id": "geNDbrJI_RDT"
      },
      "source": [
        "import pandas as pd\n",
        "import seaborn as sns\n",
        "import matplotlib.pyplot as plt\n"
      ],
      "execution_count": 147,
      "outputs": []
    },
    {
      "cell_type": "code",
      "metadata": {
        "id": "dA1jknyqb3c_"
      },
      "source": [
        "# from google.colab import drive\n",
        "# drive.mount('/content/gdrive')"
      ],
      "execution_count": 148,
      "outputs": []
    },
    {
      "cell_type": "code",
      "metadata": {
        "id": "TGkTXI34_cmp"
      },
      "source": [
        "data = pd.read_csv('/content/gdrive/MyDrive/Applied_AI_Assignments/data/Donor_data/preprocessed_data.csv')"
      ],
      "execution_count": 149,
      "outputs": []
    },
    {
      "cell_type": "code",
      "metadata": {
        "colab": {
          "base_uri": "https://localhost:8080/",
          "height": 0
        },
        "id": "s_YFV6cN_qUs",
        "outputId": "c9dd8fa0-dad3-4af3-dc05-b91c565adc3a"
      },
      "source": [
        "data.shape"
      ],
      "execution_count": 150,
      "outputs": [
        {
          "output_type": "execute_result",
          "data": {
            "text/plain": [
              "(109248, 9)"
            ]
          },
          "metadata": {
            "tags": []
          },
          "execution_count": 150
        }
      ]
    },
    {
      "cell_type": "code",
      "metadata": {
        "id": "RMQsMwhPQJBH"
      },
      "source": [
        ""
      ],
      "execution_count": 150,
      "outputs": []
    },
    {
      "cell_type": "markdown",
      "metadata": {
        "id": "WtVV13Fyb3dH"
      },
      "source": [
        "<h2>1.2 Splitting data into Train and cross validation(or test): Stratified Sampling</h2>"
      ]
    },
    {
      "cell_type": "code",
      "metadata": {
        "id": "i-PyprDNb3dI"
      },
      "source": [
        "# please write all the code with proper documentation, and proper titles for each subsection\n",
        "# go through documentations and blogs before you start coding\n",
        "# first figure out what to do, and then think about how to do.\n",
        "# reading and understanding error messages will be very much helpfull in debugging your code\n",
        "# when you plot any graph make sure you use \n",
        "    # a. Title, that describes your plot, this will be very helpful to the reader\n",
        "    # b. Legends if needed\n",
        "    # c. X-axis label\n",
        "    # d. Y-axis label"
      ],
      "execution_count": 151,
      "outputs": []
    },
    {
      "cell_type": "code",
      "metadata": {
        "id": "kyvPMIbvQoK3"
      },
      "source": [
        "y = data['project_is_approved'].values\n",
        "x = data.drop(['project_is_approved'],axis=1)"
      ],
      "execution_count": 152,
      "outputs": []
    },
    {
      "cell_type": "code",
      "metadata": {
        "id": "kyfN-CofRQR7"
      },
      "source": [
        "from sklearn.model_selection import train_test_split\n",
        "x_train,x_test,y_train,y_test = train_test_split(x,y,test_size=0.33,stratify=y)"
      ],
      "execution_count": 153,
      "outputs": []
    },
    {
      "cell_type": "code",
      "metadata": {
        "colab": {
          "base_uri": "https://localhost:8080/",
          "height": 0
        },
        "id": "BvKYzCdefF61",
        "outputId": "d60d0134-4468-4a4f-fbe1-db357e943210"
      },
      "source": [
        "print(x_train.columns)"
      ],
      "execution_count": 154,
      "outputs": [
        {
          "output_type": "stream",
          "text": [
            "Index(['school_state', 'teacher_prefix', 'project_grade_category',\n",
            "       'teacher_number_of_previously_posted_projects', 'clean_categories',\n",
            "       'clean_subcategories', 'essay', 'price'],\n",
            "      dtype='object')\n"
          ],
          "name": "stdout"
        }
      ]
    },
    {
      "cell_type": "markdown",
      "metadata": {
        "id": "GjaV3phmbPy-"
      },
      "source": [
        "\n",
        "#1.3 Make Data Model Ready: encoding eassay, and project_title"
      ]
    },
    {
      "cell_type": "markdown",
      "metadata": {
        "id": "MosS-bcuSGnV"
      },
      "source": [
        "#Encoding Essay using BOW"
      ]
    },
    {
      "cell_type": "code",
      "metadata": {
        "id": "xe1TsNxJSLSs",
        "colab": {
          "base_uri": "https://localhost:8080/",
          "height": 0
        },
        "outputId": "8b5ce258-de41-40f3-efa6-80cc825927ff"
      },
      "source": [
        "from sklearn.feature_extraction.text import CountVectorizer\n",
        "cnt_vector = CountVectorizer(min_df=10)\n",
        "cnt_vector.fit(x_train['essay'])"
      ],
      "execution_count": 155,
      "outputs": [
        {
          "output_type": "execute_result",
          "data": {
            "text/plain": [
              "CountVectorizer(analyzer='word', binary=False, decode_error='strict',\n",
              "                dtype=<class 'numpy.int64'>, encoding='utf-8', input='content',\n",
              "                lowercase=True, max_df=1.0, max_features=None, min_df=10,\n",
              "                ngram_range=(1, 1), preprocessor=None, stop_words=None,\n",
              "                strip_accents=None, token_pattern='(?u)\\\\b\\\\w\\\\w+\\\\b',\n",
              "                tokenizer=None, vocabulary=None)"
            ]
          },
          "metadata": {
            "tags": []
          },
          "execution_count": 155
        }
      ]
    },
    {
      "cell_type": "code",
      "metadata": {
        "id": "zMqq71cuTkze"
      },
      "source": [
        "x_test_bow_values = cnt_vector.transform(x_test['essay'].values)\n",
        "x_train_bow_values = cnt_vector.transform(x_train['essay'].values)"
      ],
      "execution_count": 156,
      "outputs": []
    },
    {
      "cell_type": "code",
      "metadata": {
        "colab": {
          "base_uri": "https://localhost:8080/",
          "height": 0
        },
        "id": "Xzvb2hRpUBx1",
        "outputId": "5b2938ef-c047-4323-fff9-60ca8e8bad4b"
      },
      "source": [
        "print(x_test_bow_values.shape)\n",
        "print(x_train_bow_values.shape)\n",
        "print(len(bow_vector.get_feature_names()))"
      ],
      "execution_count": 157,
      "outputs": [
        {
          "output_type": "stream",
          "text": [
            "(36052, 14272)\n",
            "(73196, 14272)\n",
            "14220\n"
          ],
          "name": "stdout"
        }
      ]
    },
    {
      "cell_type": "markdown",
      "metadata": {
        "id": "iDTWNvX7WGVU"
      },
      "source": [
        "#Encoding essay using TF-IDF Vectorizer\n"
      ]
    },
    {
      "cell_type": "code",
      "metadata": {
        "id": "vQPkV9FKVLoM"
      },
      "source": [
        "from sklearn.feature_extraction.text import TfidfVectorizer\n",
        "tfidf_vectorizer = TfidfVectorizer(min_df=10,ngram_range=(1, 2))\n",
        "tfidf_vectorizer.fit(x_train['essay'])"
      ],
      "execution_count": 146,
      "outputs": []
    },
    {
      "cell_type": "code",
      "metadata": {
        "id": "8W_K2DZLWqA3"
      },
      "source": [
        "x_test_tf_idf_values = tfidf_vectorizer.transform(x_test['essay'].values)\n",
        "x_train_tf_idf_values = tfidf_vectorizer.transform(x_train['essay'].values)"
      ],
      "execution_count": 158,
      "outputs": []
    },
    {
      "cell_type": "code",
      "metadata": {
        "colab": {
          "base_uri": "https://localhost:8080/",
          "height": 0
        },
        "id": "zEWA0bJWXAYU",
        "outputId": "4b346e71-a27f-4397-9447-bd3727600b13"
      },
      "source": [
        "print(x_test_tf_idf_values.shape)\n",
        "print(x_train_tf_idf_values.shape)\n",
        "print(len(tfidf_vector.get_feature_names()))"
      ],
      "execution_count": 159,
      "outputs": [
        {
          "output_type": "stream",
          "text": [
            "(36052, 146850)\n",
            "(73196, 146850)\n",
            "146850\n"
          ],
          "name": "stdout"
        }
      ]
    },
    {
      "cell_type": "markdown",
      "metadata": {
        "id": "bGy86kgHb3dX"
      },
      "source": [
        "<h2>1.4 Make Data Model Ready: encoding numerical, categorical features</h2>"
      ]
    },
    {
      "cell_type": "code",
      "metadata": {
        "id": "EfXkofX1b3da"
      },
      "source": [
        "# please write all the code with proper documentation, and proper titles for each subsection\n",
        "# go through documentations and blogs before you start coding \n",
        "# first figure out what to do, and then think about how to do.\n",
        "# reading and understanding error messages will be very much helpfull in debugging your code\n",
        "# make sure you featurize train and test data separatly\n",
        "\n",
        "# when you plot any graph make sure you use \n",
        "    # a. Title, that describes your plot, this will be very helpful to the reader\n",
        "    # b. Legends if needed\n",
        "    # c. X-axis label\n",
        "    # d. Y-axis label\n",
        "from sklearn.preprocessing import Normalizer  \n",
        "features = []  \n",
        "def encode_categorical_feature(train_dataframe,test_dataframe,feature):\n",
        "    count_vectorizer = CountVectorizer()\n",
        "    count_vectorizer.fit(train_dataframe[feature])\n",
        "    count_vectorizer_train_transform = count_vectorizer.transform(train_dataframe[feature].values)\n",
        "    count_vectorizer_test_transform = count_vectorizer.transform(test_dataframe[feature].values)\n",
        "    features.extend(count_vectorizer.get_feature_names())\n",
        "    return count_vectorizer_train_transform,count_vectorizer_test_transform\n",
        "def encod_numerical_feature(train_dataframe,test_dataframe,feature):\n",
        "    normalizer  = Normalizer()\n",
        "    normalizer.fit(train_dataframe[feature].values.reshape(1,-1))\n",
        "    x_train_normalized = normalizer.transform(train_dataframe[feature].values.reshape(1,-1))\n",
        "    x_test_normalized = normalizer.transform(test_dataframe[feature].values.reshape(1,-1))\n",
        "    return x_train_normalized.reshape(-1,1),x_test_normalized.reshape(-1,1)\n"
      ],
      "execution_count": 160,
      "outputs": []
    },
    {
      "cell_type": "code",
      "metadata": {
        "id": "5Cf9hOx_fM58"
      },
      "source": [
        "x_train_state,x_test_state = encode_categorical_feature(x_train,x_test,'school_state')\n",
        "x_train_teacher_prefix,x_test_teacher_prefix = encode_categorical_feature(x_train,x_test,'teacher_prefix')\n",
        "x_train_grade,x_test_grade = encode_categorical_feature(x_train,x_test,'project_grade_category')\n",
        "x_train_categories,x_test_categories = encode_categorical_feature(x_train,x_test,'clean_categories')\n",
        "x_train_sub_categories,x_test_sub_categories = encode_categorical_feature(x_train,x_test,'clean_subcategories')"
      ],
      "execution_count": 161,
      "outputs": []
    },
    {
      "cell_type": "code",
      "metadata": {
        "id": "JBdEU3kfrPwZ"
      },
      "source": [
        "x_train_price,x_test_price = encod_numerical_feature(x_train,x_test,'price')\n",
        "x_train_previous_projects,x_test_previous_projects = encod_numerical_feature(x_train,x_test,'teacher_number_of_previously_posted_projects')\n"
      ],
      "execution_count": 162,
      "outputs": []
    },
    {
      "cell_type": "code",
      "metadata": {
        "colab": {
          "base_uri": "https://localhost:8080/",
          "height": 0
        },
        "id": "uLyI5tZMEYDs",
        "outputId": "aed2fa75-7cef-4fed-b470-05d27e9593d8"
      },
      "source": [
        "print(x_train_price.shape,x_test_price.shape)\n",
        "print(x_train_previous_projects.shape,x_test_previous_projects.shape)\n",
        "print(x_train_state.shape,x_test_state.shape)\n",
        "#print(x_train_price[0][:5])\n",
        "#print(x_test_price[0][:5])"
      ],
      "execution_count": 163,
      "outputs": [
        {
          "output_type": "stream",
          "text": [
            "(73196, 1) (36052, 1)\n",
            "(73196, 1) (36052, 1)\n",
            "(73196, 51) (36052, 51)\n"
          ],
          "name": "stdout"
        }
      ]
    },
    {
      "cell_type": "markdown",
      "metadata": {
        "id": "aMXqjpro2i3e"
      },
      "source": [
        "#Bow Data"
      ]
    },
    {
      "cell_type": "code",
      "metadata": {
        "id": "eV2AScVscaIM"
      },
      "source": [
        "from scipy.sparse import hstack\n",
        "x_train_bow_data = hstack((x_train_bow_values,x_train_state,x_train_teacher_prefix,x_train_grade,x_train_categories,x_train_sub_categories,x_train_price,x_train_previous_projects))\n",
        "x_test_bow_data = hstack((x_test_bow_values,x_test_state,x_test_teacher_prefix,x_test_grade,x_test_categories,x_test_sub_categories,x_test_price,x_test_previous_projects))\n"
      ],
      "execution_count": 164,
      "outputs": []
    },
    {
      "cell_type": "markdown",
      "metadata": {
        "id": "Bf9lHPA-3AqR"
      },
      "source": [
        "#TF_IDF Data\n",
        "\n",
        "\n",
        "> Indented block\n",
        "\n"
      ]
    },
    {
      "cell_type": "code",
      "metadata": {
        "id": "vcWsq6i8k9gF"
      },
      "source": [
        "x_train_tfidf_data = hstack((x_train_tf_idf_values,x_train_state,x_train_teacher_prefix,x_train_grade,x_train_categories,x_train_sub_categories,x_train_price,x_train_previous_projects))\n",
        "x_test_tfidf_data = hstack((x_test_tf_idf_values,x_test_state,x_test_teacher_prefix,x_test_grade,x_test_categories,x_test_sub_categories,x_test_price,x_test_previous_projects))"
      ],
      "execution_count": 165,
      "outputs": []
    },
    {
      "cell_type": "code",
      "metadata": {
        "colab": {
          "base_uri": "https://localhost:8080/",
          "height": 0
        },
        "id": "jQad-B0_4Syd",
        "outputId": "da7a11a1-a249-4446-dd0f-06cf5493e18f"
      },
      "source": [
        "print(x_train_bow_data.shape)\n",
        "print(x_test_bow_data.shape)\n",
        "print('*'*50)\n",
        "print(x_train_tfidf_data.shape)\n",
        "print(x_test_tfidf_data.shape)"
      ],
      "execution_count": 166,
      "outputs": [
        {
          "output_type": "stream",
          "text": [
            "(73196, 14373)\n",
            "(36052, 14373)\n",
            "**************************************************\n",
            "(73196, 146951)\n",
            "(36052, 146951)\n"
          ],
          "name": "stdout"
        }
      ]
    },
    {
      "cell_type": "markdown",
      "metadata": {
        "id": "yYHPYadYb3dh"
      },
      "source": [
        "<h2>1.5 Appling NB on different kind of featurization as mentioned in the instructions</h2>\n",
        "\n",
        "<br>Apply NB on different kind of featurization as mentioned in the instructions\n",
        "<br> For Every model that you work on make sure you do the step 2 and step 3 of instrucations"
      ]
    },
    {
      "cell_type": "code",
      "metadata": {
        "id": "DNwqilFxb3di"
      },
      "source": [
        "# please write all the code with proper documentation, and proper titles for each subsection\n",
        "# go through documentations and blogs before you start coding\n",
        "# first figure out what to do, and then think about how to do.\n",
        "# reading and understanding error messages will be very much helpfull in debugging your code\n",
        "# when you plot any graph make sure you use \n",
        "    # a. Title, that describes your plot, this will be very helpful to the reader\n",
        "    # b. Legends if needed\n",
        "    # c. X-axis label\n",
        "    # d. Y-axis label"
      ],
      "execution_count": 167,
      "outputs": []
    },
    {
      "cell_type": "code",
      "metadata": {
        "colab": {
          "base_uri": "https://localhost:8080/",
          "height": 0
        },
        "id": "SICY1tOaxBAP",
        "outputId": "4ff19910-d666-4a7d-d9a4-4a00797e93f4"
      },
      "source": [
        "import sklearn\n",
        "sklearn.metrics.SCORERS.keys()\n",
        "#To get what scoring parameters can be sent to Gird/RandomSearchCV strategies."
      ],
      "execution_count": 168,
      "outputs": [
        {
          "output_type": "execute_result",
          "data": {
            "text/plain": [
              "dict_keys(['explained_variance', 'r2', 'max_error', 'neg_median_absolute_error', 'neg_mean_absolute_error', 'neg_mean_squared_error', 'neg_mean_squared_log_error', 'neg_root_mean_squared_error', 'neg_mean_poisson_deviance', 'neg_mean_gamma_deviance', 'accuracy', 'roc_auc', 'roc_auc_ovr', 'roc_auc_ovo', 'roc_auc_ovr_weighted', 'roc_auc_ovo_weighted', 'balanced_accuracy', 'average_precision', 'neg_log_loss', 'neg_brier_score', 'adjusted_rand_score', 'homogeneity_score', 'completeness_score', 'v_measure_score', 'mutual_info_score', 'adjusted_mutual_info_score', 'normalized_mutual_info_score', 'fowlkes_mallows_score', 'precision', 'precision_macro', 'precision_micro', 'precision_samples', 'precision_weighted', 'recall', 'recall_macro', 'recall_micro', 'recall_samples', 'recall_weighted', 'f1', 'f1_macro', 'f1_micro', 'f1_samples', 'f1_weighted', 'jaccard', 'jaccard_macro', 'jaccard_micro', 'jaccard_samples', 'jaccard_weighted'])"
            ]
          },
          "metadata": {
            "tags": []
          },
          "execution_count": 168
        }
      ]
    },
    {
      "cell_type": "code",
      "metadata": {
        "id": "5Z_LABmYxHcv"
      },
      "source": [
        "from sklearn.model_selection import RandomizedSearchCV\n",
        "from sklearn.model_selection import GridSearchCV\n",
        "from sklearn.metrics import roc_auc_score\n",
        "from sklearn.naive_bayes import MultinomialNB"
      ],
      "execution_count": 169,
      "outputs": []
    },
    {
      "cell_type": "markdown",
      "metadata": {
        "id": "6jyyhvJC2ZWM"
      },
      "source": [
        "<h3>1.5.1 Naive-Bayes on BOW Data<h3>"
      ]
    },
    {
      "cell_type": "code",
      "metadata": {
        "id": "4VpXjoOyxfWu"
      },
      "source": [
        "hyper_params = {}\n",
        "hyper_params['alpha'] = [0.00001,0.0005, 0.0001,0.005,0.001,0.05,0.01,0.1,0.5,1,5,10,50,100]\n",
        "#hyper_params['class_prior'] = [[0.5,0.5],[0.75,0.25]]\n",
        "nb = MultinomialNB()\n",
        "search = GridSearchCV(nb,hyper_params,cv=5,scoring='roc_auc',return_train_score=True)\n",
        "result = search.fit(x_train_bow_data,y_train)"
      ],
      "execution_count": 170,
      "outputs": []
    },
    {
      "cell_type": "code",
      "metadata": {
        "colab": {
          "base_uri": "https://localhost:8080/",
          "height": 0
        },
        "id": "YTBiAvAzjQVM",
        "outputId": "55dee37f-6827-418c-87ac-3433b131f935"
      },
      "source": [
        "print(x_train_bow_data.shape)\n",
        "print(x_test_bow_data.shape)\n"
      ],
      "execution_count": 171,
      "outputs": [
        {
          "output_type": "stream",
          "text": [
            "(73196, 14373)\n",
            "(36052, 14373)\n"
          ],
          "name": "stdout"
        }
      ]
    },
    {
      "cell_type": "code",
      "metadata": {
        "colab": {
          "base_uri": "https://localhost:8080/",
          "height": 0
        },
        "id": "cXHsppS-zc6O",
        "outputId": "a6d9d8a8-53f6-476d-ad3f-ca1c787e671e"
      },
      "source": [
        "cv_mean_test_scores = result.cv_results_['mean_test_score']\n",
        "cv_mean_train_score = result.cv_results_['mean_train_score']\n",
        "alpha_values = [i['alpha'] for i in result.cv_results_['params']]\n",
        "alpha_values_str = [str(i) for i in alpha_values]\n",
        "\n",
        "print(cv_mean_test_scores)\n",
        "print(alpha_values)\n",
        "\n",
        "print(result.best_estimator_)\n",
        "print(result.best_score_)\n",
        "bow_best_alpha = result.best_params_['alpha']\n",
        "print(bow_best_alpha)\n"
      ],
      "execution_count": 172,
      "outputs": [
        {
          "output_type": "stream",
          "text": [
            "[0.67726981 0.68768062 0.68303858 0.69464059 0.68976393 0.70093303\n",
            " 0.69666914 0.70242447 0.70382821 0.70214136 0.68205503 0.66411723\n",
            " 0.58803925 0.50790271]\n",
            "[1e-05, 0.0005, 0.0001, 0.005, 0.001, 0.05, 0.01, 0.1, 0.5, 1, 5, 10, 50, 100]\n",
            "MultinomialNB(alpha=0.5, class_prior=None, fit_prior=True)\n",
            "0.7038282111167782\n",
            "0.5\n"
          ],
          "name": "stdout"
        }
      ]
    },
    {
      "cell_type": "code",
      "metadata": {
        "colab": {
          "base_uri": "https://localhost:8080/",
          "height": 367
        },
        "id": "_y6PXlo_40X9",
        "outputId": "dc4a5958-5fa0-4557-e601-a05f7b15b99e"
      },
      "source": [
        "plt.figure(figsize=(15,5))\n",
        "sns.lineplot(x=alpha_values_str,y=cv_mean_test_scores,label='CV SCores')\n",
        "sns.lineplot(x=alpha_values_str,y=cv_mean_train_score,label='Train SCores')\n",
        "sns.scatterplot(x=alpha_values_str,y=cv_mean_test_scores,label='CV AUC')\n",
        "sns.scatterplot(x=alpha_values_str,y=cv_mean_train_score,label='Train AUC')\n",
        "plt.xlabel('alpha values')\n",
        "plt.ylabel('CV Scores')\n",
        "plt.xticks(alpha_values_str)\n",
        "plt.legend()\n",
        "plt.title('Alpha values and CV scores graph for BOW')\n",
        "plt.plot()"
      ],
      "execution_count": 173,
      "outputs": [
        {
          "output_type": "execute_result",
          "data": {
            "text/plain": [
              "[]"
            ]
          },
          "metadata": {
            "tags": []
          },
          "execution_count": 173
        },
        {
          "output_type": "display_data",
          "data": {
            "image/png": "[encoded data removed]",
            "text/plain": [
              "<Figure size 1080x360 with 1 Axes>"
            ]
          },
          "metadata": {
            "tags": [],
            "needs_background": "light"
          }
        }
      ]
    },
    {
      "cell_type": "code",
      "metadata": {
        "colab": {
          "base_uri": "https://localhost:8080/",
          "height": 354
        },
        "id": "C_LpHBuFBsQo",
        "outputId": "a4999dd9-0f4c-451f-f9ba-2c2477ec41f9"
      },
      "source": [
        "from sklearn.metrics import roc_curve,auc\n",
        "train_pred = search.predict(x_train_bow_data)\n",
        "test_pred = search.predict(x_test_bow_data)\n",
        "train_fpr, train_tpr, tr_thresholds = roc_curve(y_train,train_pred)\n",
        "test_fpr, test_tpr, te_thresholds = roc_curve(y_test, test_pred)\n",
        "plt.figure(figsize=(10,5))\n",
        "sns.lineplot(x=train_fpr,y=train_tpr,label=\"train AUC =\"+str(auc(train_fpr, train_tpr)))\n",
        "sns.lineplot(x=test_fpr,y=test_tpr,label=\"test AUC =\"+str(auc(test_fpr, test_tpr)))\n",
        "plt.title('Train and Test ROC Curve')\n",
        "plt.plot()\n"
      ],
      "execution_count": 174,
      "outputs": [
        {
          "output_type": "execute_result",
          "data": {
            "text/plain": [
              "[]"
            ]
          },
          "metadata": {
            "tags": []
          },
          "execution_count": 174
        },
        {
          "output_type": "display_data",
          "data": {
            "image/png": "[encoded data removed]",
            "text/plain": [
              "<Figure size 720x360 with 1 Axes>"
            ]
          },
          "metadata": {
            "tags": [],
            "needs_background": "light"
          }
        }
      ]
    },
    {
      "cell_type": "code",
      "metadata": {
        "colab": {
          "base_uri": "https://localhost:8080/",
          "height": 354
        },
        "id": "R_37pkbj1vAk",
        "outputId": "ee0c0f08-4ae4-437d-ef4b-447f79477251"
      },
      "source": [
        "from sklearn import metrics\n",
        "cm = metrics.confusion_matrix(y_test, test_pred)\n",
        "plt.figure(figsize=(5,5))\n",
        "sns.heatmap(cm,cmap='Reds',annot=True,fmt='d')\n",
        "plt.title('Heat map of BOW Data')\n",
        "plt.plot()"
      ],
      "execution_count": 175,
      "outputs": [
        {
          "output_type": "execute_result",
          "data": {
            "text/plain": [
              "[]"
            ]
          },
          "metadata": {
            "tags": []
          },
          "execution_count": 175
        },
        {
          "output_type": "display_data",
          "data": {
            "image/png": "[encoded data removed]",
            "text/plain": [
              "<Figure size 360x360 with 2 Axes>"
            ]
          },
          "metadata": {
            "tags": [],
            "needs_background": "light"
          }
        }
      ]
    },
    {
      "cell_type": "markdown",
      "metadata": {
        "id": "nECru3WnzWoK"
      },
      "source": [
        "<h3>1.5.2 Naive-Bayes on TF_IDF Data</h3>"
      ]
    },
    {
      "cell_type": "code",
      "metadata": {
        "colab": {
          "base_uri": "https://localhost:8080/",
          "height": 0
        },
        "id": "R1EhoatRzbau",
        "outputId": "babc20ca-2121-4a27-a3d6-cba741474e18"
      },
      "source": [
        "hyper_params_TFIDF = {}\n",
        "hyper_params_TFIDF['alpha'] = [0.00001,0.0005, 0.0001,0.005,0.001,0.05,0.01,0.1,0.5,1,5,10,50,100]\n",
        "#hyper_params['class_prior'] = [[0.5,0.5],[0.75,0.25]]\n",
        "nb_TFIDF = MultinomialNB()\n",
        "search_TFIDF = GridSearchCV(nb_TFIDF,hyper_params_TFIDF,cv=5,scoring='roc_auc',return_train_score=True)\n",
        "result_TFIDF = search_TFIDF.fit(x_train_tfidf_data,y_train)\n",
        "cv_mean_test_scores = result_TFIDF.cv_results_['mean_test_score']\n",
        "cv_mean_train_score = result_TFIDF.cv_results_['mean_train_score']\n",
        "alpha_values = [i['alpha'] for i in result_TFIDF.cv_results_['params']]\n",
        "alpha_values_str = [str(i) for i in alpha_values]\n",
        "\n",
        "\n",
        "print(cv_mean_test_scores)\n",
        "print(alpha_values)\n",
        "\n",
        "print(result_TFIDF.best_estimator_)\n",
        "print(result_TFIDF.best_score_)\n",
        "tf_idf_best_alpha = result_TFIDF.best_params_['alpha']\n",
        "print(tf_idf_best_alpha)"
      ],
      "execution_count": 176,
      "outputs": [
        {
          "output_type": "stream",
          "text": [
            "[0.64705119 0.66631659 0.65750722 0.68016979 0.67045531 0.68779\n",
            " 0.68389919 0.68468408 0.65286123 0.62882913 0.57861282 0.56601588\n",
            " 0.54752748 0.54119492]\n",
            "[1e-05, 0.0005, 0.0001, 0.005, 0.001, 0.05, 0.01, 0.1, 0.5, 1, 5, 10, 50, 100]\n",
            "MultinomialNB(alpha=0.05, class_prior=None, fit_prior=True)\n",
            "0.6877900035731557\n",
            "0.05\n"
          ],
          "name": "stdout"
        }
      ]
    },
    {
      "cell_type": "code",
      "metadata": {
        "colab": {
          "base_uri": "https://localhost:8080/",
          "height": 367
        },
        "id": "cYBO2V7tz72l",
        "outputId": "ec20dac0-da3f-48c4-eaae-17a5caf3aeae"
      },
      "source": [
        "plt.figure(figsize=(15,5))\n",
        "sns.lineplot(x=alpha_values_str,y=cv_mean_test_scores,label='CV SCores')\n",
        "sns.lineplot(x=alpha_values_str,y=cv_mean_train_score,label='Train SCores')\n",
        "sns.scatterplot(x=alpha_values_str,y=cv_mean_test_scores,label='CV AUC')\n",
        "sns.scatterplot(x=alpha_values_str,y=cv_mean_train_score,label='Train AUC')\n",
        "plt.xlabel('alpha values')\n",
        "plt.ylabel('CV Scores')\n",
        "plt.xticks(alpha_values_str)\n",
        "plt.legend()\n",
        "plt.title('Alpha values and CV scores graph for TF-IDF')\n",
        "plt.plot()"
      ],
      "execution_count": 177,
      "outputs": [
        {
          "output_type": "execute_result",
          "data": {
            "text/plain": [
              "[]"
            ]
          },
          "metadata": {
            "tags": []
          },
          "execution_count": 177
        },
        {
          "output_type": "display_data",
          "data": {
            "image/png": "[encoded data removed]",
            "text/plain": [
              "<Figure size 1080x360 with 1 Axes>"
            ]
          },
          "metadata": {
            "tags": [],
            "needs_background": "light"
          }
        }
      ]
    },
    {
      "cell_type": "code",
      "metadata": {
        "colab": {
          "base_uri": "https://localhost:8080/",
          "height": 354
        },
        "id": "wmDI6xDq0gi9",
        "outputId": "5dfff62c-8486-4bf0-c070-aed8b02ef655"
      },
      "source": [
        "from sklearn.metrics import roc_curve,auc\n",
        "train_pred_tfidf = search_TFIDF.predict(x_train_tfidf_data)\n",
        "test_pred_tfidf = search_TFIDF.predict(x_test_tfidf_data)\n",
        "train_fpr_tfidf, train_tpr_tfidf, tr_thresholds_tfidf = roc_curve(y_train,train_pred_tfidf)\n",
        "test_fpr_tfidf, test_tpr_tfidf, te_thresholds_tfidf = roc_curve(y_test, test_pred_tfidf)\n",
        "plt.figure(figsize=(10,5))\n",
        "sns.lineplot(x=train_fpr_tfidf,y=train_tpr_tfidf,label=\"train AUC =\"+str(auc(train_fpr_tfidf, train_tpr_tfidf)))\n",
        "sns.lineplot(x=test_fpr_tfidf,y=test_tpr_tfidf,label=\"test AUC =\"+str(auc(test_fpr_tfidf, test_tpr_tfidf)))\n",
        "plt.title('Train and Test ROC Curve for TF-IDF Data')\n",
        "plt.plot()\n"
      ],
      "execution_count": 178,
      "outputs": [
        {
          "output_type": "execute_result",
          "data": {
            "text/plain": [
              "[]"
            ]
          },
          "metadata": {
            "tags": []
          },
          "execution_count": 178
        },
        {
          "output_type": "display_data",
          "data": {
            "image/png": "[encoded data removed]",
            "text/plain": [
              "<Figure size 720x360 with 1 Axes>"
            ]
          },
          "metadata": {
            "tags": [],
            "needs_background": "light"
          }
        }
      ]
    },
    {
      "cell_type": "code",
      "metadata": {
        "colab": {
          "base_uri": "https://localhost:8080/",
          "height": 354
        },
        "id": "j6UdRvdm278f",
        "outputId": "ffe45361-57ba-401c-91ca-83e13cc5abe8"
      },
      "source": [
        "from sklearn import metrics\n",
        "cm = metrics.confusion_matrix(y_test, test_pred_tfidf)\n",
        "plt.figure(figsize=(5,5))\n",
        "sns.heatmap(cm,cmap='Reds',annot=True,fmt='d')\n",
        "plt.title('Heat map of TFIDF Data')\n",
        "plt.plot()"
      ],
      "execution_count": 179,
      "outputs": [
        {
          "output_type": "execute_result",
          "data": {
            "text/plain": [
              "[]"
            ]
          },
          "metadata": {
            "tags": []
          },
          "execution_count": 179
        },
        {
          "output_type": "display_data",
          "data": {
            "image/png": "[encoded data removed]",
            "text/plain": [
              "<Figure size 360x360 with 2 Axes>"
            ]
          },
          "metadata": {
            "tags": [],
            "needs_background": "light"
          }
        }
      ]
    },
    {
      "cell_type": "markdown",
      "metadata": {
        "id": "ptZo4Pqk5_z-"
      },
      "source": [
        "<h3>1.5.3 TF-IDF Feature importance </h3>"
      ]
    },
    {
      "cell_type": "code",
      "metadata": {
        "colab": {
          "base_uri": "https://localhost:8080/",
          "height": 0
        },
        "id": "0yy5xGpW5_Lk",
        "outputId": "b20194ec-aa59-4d1a-8308-4f3e261a30ec"
      },
      "source": [
        "fitted_MNB = search_TFIDF.best_estimator_\n",
        "positive_prob = fitted_MNB.feature_log_prob_[1]\n",
        "negative_prob = fitted_MNB.feature_log_prob_[0]\n",
        "\n",
        "print(len(tfidf_vectorizer.get_feature_names()))\n",
        "print(len(features))\n",
        "print(features)\n"
      ],
      "execution_count": 180,
      "outputs": [
        {
          "output_type": "stream",
          "text": [
            "146850\n",
            "99\n",
            "['ak', 'al', 'ar', 'az', 'ca', 'co', 'ct', 'dc', 'de', 'fl', 'ga', 'hi', 'ia', 'id', 'il', 'in', 'ks', 'ky', 'la', 'ma', 'md', 'me', 'mi', 'mn', 'mo', 'ms', 'mt', 'nc', 'nd', 'ne', 'nh', 'nj', 'nm', 'nv', 'ny', 'oh', 'ok', 'or', 'pa', 'ri', 'sc', 'sd', 'tn', 'tx', 'ut', 'va', 'vt', 'wa', 'wi', 'wv', 'wy', 'dr', 'mr', 'mrs', 'ms', 'teacher', 'grades_3_5', 'grades_6_8', 'grades_9_12', 'grades_prek_2', 'appliedlearning', 'care_hunger', 'health_sports', 'history_civics', 'literacy_language', 'math_science', 'music_arts', 'specialneeds', 'warmth', 'appliedsciences', 'care_hunger', 'charactereducation', 'civics_government', 'college_careerprep', 'communityservice', 'earlydevelopment', 'economics', 'environmentalscience', 'esl', 'extracurricular', 'financialliteracy', 'foreignlanguages', 'gym_fitness', 'health_lifescience', 'health_wellness', 'history_geography', 'literacy', 'literature_writing', 'mathematics', 'music', 'nutritioneducation', 'other', 'parentinvolvement', 'performingarts', 'socialsciences', 'specialneeds', 'teamsports', 'visualarts', 'warmth']\n"
          ],
          "name": "stdout"
        }
      ]
    },
    {
      "cell_type": "code",
      "metadata": {
        "id": "utbQ7zH9O7tW"
      },
      "source": [
        "features.append('price')\n",
        "features.append('teacher_number_of_previously_posted_projects')\n"
      ],
      "execution_count": 181,
      "outputs": []
    },
    {
      "cell_type": "code",
      "metadata": {
        "id": "WIbumFilPBiy"
      },
      "source": [
        "final_features = []\n",
        "final_features.extend(tfidf_vectorizer.get_feature_names())\n",
        "final_features.extend(features)"
      ],
      "execution_count": 182,
      "outputs": []
    },
    {
      "cell_type": "code",
      "metadata": {
        "colab": {
          "base_uri": "https://localhost:8080/",
          "height": 0
        },
        "id": "eLioyXeFlPQX",
        "outputId": "34f3ed3b-b2c9-4708-eca5-d1090f2075ad"
      },
      "source": [
        "print(final_features[:30])\n",
        "print(len(final_features))"
      ],
      "execution_count": 190,
      "outputs": [
        {
          "output_type": "stream",
          "text": [
            "['00', '00 pm', '000', '000 000', '000 books', '000 people', '000 residents', '000 steps', '000 students', '000 words', '00am', '00pm', '10', '10 000', '10 11', '10 12', '10 13', '10 15', '10 20', '10 african', '10 asian', '10 blocks', '10 books', '10 boys', '10 children', '10 chrome', '10 chromebooks', '10 class', '10 copies', '10 different']\n",
            "146951\n"
          ],
          "name": "stdout"
        }
      ]
    },
    {
      "cell_type": "code",
      "metadata": {
        "colab": {
          "base_uri": "https://localhost:8080/",
          "height": 655
        },
        "id": "y1bO6nUrPS-P",
        "outputId": "8c15239e-2bb6-4f9b-a978-eb42be309da2"
      },
      "source": [
        "import numpy as np\n",
        "dict = {'feture_names':final_features,'pos_prob':positive_prob,'neg_prob':negative_prob}\n",
        "feature_importance_df = pd.DataFrame(dict)\n",
        "top_pos_features = feature_importance_df.sort_values(by=['pos_prob'],ascending=False)\n",
        "top_neg_features = feature_importance_df.sort_values(by=['neg_prob'],ascending=False)\n",
        "top_pos_features.head(20)\n",
        "\n"
      ],
      "execution_count": 191,
      "outputs": [
        {
          "output_type": "execute_result",
          "data": {
            "text/html": [
              "<div>\n",
              "<style scoped>\n",
              "    .dataframe tbody tr th:only-of-type {\n",
              "        vertical-align: middle;\n",
              "    }\n",
              "\n",
              "    .dataframe tbody tr th {\n",
              "        vertical-align: top;\n",
              "    }\n",
              "\n",
              "    .dataframe thead th {\n",
              "        text-align: right;\n",
              "    }\n",
              "</style>\n",
              "<table border=\"1\" class=\"dataframe\">\n",
              "  <thead>\n",
              "    <tr style=\"text-align: right;\">\n",
              "      <th></th>\n",
              "      <th>feture_names</th>\n",
              "      <th>pos_prob</th>\n",
              "      <th>neg_prob</th>\n",
              "    </tr>\n",
              "  </thead>\n",
              "  <tbody>\n",
              "    <tr>\n",
              "      <th>146903</th>\n",
              "      <td>mrs</td>\n",
              "      <td>-3.574813</td>\n",
              "      <td>-3.638815</td>\n",
              "    </tr>\n",
              "    <tr>\n",
              "      <th>146914</th>\n",
              "      <td>literacy_language</td>\n",
              "      <td>-3.654183</td>\n",
              "      <td>-3.803658</td>\n",
              "    </tr>\n",
              "    <tr>\n",
              "      <th>146909</th>\n",
              "      <td>grades_prek_2</td>\n",
              "      <td>-3.840224</td>\n",
              "      <td>-3.840687</td>\n",
              "    </tr>\n",
              "    <tr>\n",
              "      <th>146915</th>\n",
              "      <td>math_science</td>\n",
              "      <td>-3.913419</td>\n",
              "      <td>-3.873425</td>\n",
              "    </tr>\n",
              "    <tr>\n",
              "      <th>146904</th>\n",
              "      <td>ms</td>\n",
              "      <td>-3.973205</td>\n",
              "      <td>-3.947199</td>\n",
              "    </tr>\n",
              "    <tr>\n",
              "      <th>146906</th>\n",
              "      <td>grades_3_5</td>\n",
              "      <td>-4.015650</td>\n",
              "      <td>-4.081465</td>\n",
              "    </tr>\n",
              "    <tr>\n",
              "      <th>146936</th>\n",
              "      <td>literacy</td>\n",
              "      <td>-4.086450</td>\n",
              "      <td>-4.293580</td>\n",
              "    </tr>\n",
              "    <tr>\n",
              "      <th>146938</th>\n",
              "      <td>mathematics</td>\n",
              "      <td>-4.296570</td>\n",
              "      <td>-4.293580</td>\n",
              "    </tr>\n",
              "    <tr>\n",
              "      <th>146937</th>\n",
              "      <td>literature_writing</td>\n",
              "      <td>-4.514211</td>\n",
              "      <td>-4.613937</td>\n",
              "    </tr>\n",
              "    <tr>\n",
              "      <th>146907</th>\n",
              "      <td>grades_6_8</td>\n",
              "      <td>-4.799090</td>\n",
              "      <td>-4.771515</td>\n",
              "    </tr>\n",
              "    <tr>\n",
              "      <th>146854</th>\n",
              "      <td>ca</td>\n",
              "      <td>-4.884492</td>\n",
              "      <td>-4.960682</td>\n",
              "    </tr>\n",
              "    <tr>\n",
              "      <th>146912</th>\n",
              "      <td>health_sports</td>\n",
              "      <td>-4.987084</td>\n",
              "      <td>-4.978417</td>\n",
              "    </tr>\n",
              "    <tr>\n",
              "      <th>146917</th>\n",
              "      <td>specialneeds</td>\n",
              "      <td>-5.041958</td>\n",
              "      <td>-4.932681</td>\n",
              "    </tr>\n",
              "    <tr>\n",
              "      <th>146945</th>\n",
              "      <td>specialneeds</td>\n",
              "      <td>-5.041958</td>\n",
              "      <td>-4.932681</td>\n",
              "    </tr>\n",
              "    <tr>\n",
              "      <th>146910</th>\n",
              "      <td>appliedlearning</td>\n",
              "      <td>-5.157645</td>\n",
              "      <td>-5.008456</td>\n",
              "    </tr>\n",
              "    <tr>\n",
              "      <th>146908</th>\n",
              "      <td>grades_9_12</td>\n",
              "      <td>-5.248235</td>\n",
              "      <td>-5.169718</td>\n",
              "    </tr>\n",
              "    <tr>\n",
              "      <th>146902</th>\n",
              "      <td>mr</td>\n",
              "      <td>-5.276558</td>\n",
              "      <td>-5.234254</td>\n",
              "    </tr>\n",
              "    <tr>\n",
              "      <th>146919</th>\n",
              "      <td>appliedsciences</td>\n",
              "      <td>-5.278397</td>\n",
              "      <td>-5.110666</td>\n",
              "    </tr>\n",
              "    <tr>\n",
              "      <th>146934</th>\n",
              "      <td>health_wellness</td>\n",
              "      <td>-5.296464</td>\n",
              "      <td>-5.422450</td>\n",
              "    </tr>\n",
              "    <tr>\n",
              "      <th>146916</th>\n",
              "      <td>music_arts</td>\n",
              "      <td>-5.308808</td>\n",
              "      <td>-5.290939</td>\n",
              "    </tr>\n",
              "  </tbody>\n",
              "</table>\n",
              "</div>"
            ],
            "text/plain": [
              "              feture_names  pos_prob  neg_prob\n",
              "146903                 mrs -3.574813 -3.638815\n",
              "146914   literacy_language -3.654183 -3.803658\n",
              "146909       grades_prek_2 -3.840224 -3.840687\n",
              "146915        math_science -3.913419 -3.873425\n",
              "146904                  ms -3.973205 -3.947199\n",
              "146906          grades_3_5 -4.015650 -4.081465\n",
              "146936            literacy -4.086450 -4.293580\n",
              "146938         mathematics -4.296570 -4.293580\n",
              "146937  literature_writing -4.514211 -4.613937\n",
              "146907          grades_6_8 -4.799090 -4.771515\n",
              "146854                  ca -4.884492 -4.960682\n",
              "146912       health_sports -4.987084 -4.978417\n",
              "146917        specialneeds -5.041958 -4.932681\n",
              "146945        specialneeds -5.041958 -4.932681\n",
              "146910     appliedlearning -5.157645 -5.008456\n",
              "146908         grades_9_12 -5.248235 -5.169718\n",
              "146902                  mr -5.276558 -5.234254\n",
              "146919     appliedsciences -5.278397 -5.110666\n",
              "146934     health_wellness -5.296464 -5.422450\n",
              "146916          music_arts -5.308808 -5.290939"
            ]
          },
          "metadata": {
            "tags": []
          },
          "execution_count": 191
        }
      ]
    },
    {
      "cell_type": "code",
      "metadata": {
        "colab": {
          "base_uri": "https://localhost:8080/",
          "height": 655
        },
        "id": "546fREcGradz",
        "outputId": "9076b6ae-54d3-4b3c-98a4-4d88bec0054d"
      },
      "source": [
        "top_neg_features.head(20)"
      ],
      "execution_count": 192,
      "outputs": [
        {
          "output_type": "execute_result",
          "data": {
            "text/html": [
              "<div>\n",
              "<style scoped>\n",
              "    .dataframe tbody tr th:only-of-type {\n",
              "        vertical-align: middle;\n",
              "    }\n",
              "\n",
              "    .dataframe tbody tr th {\n",
              "        vertical-align: top;\n",
              "    }\n",
              "\n",
              "    .dataframe thead th {\n",
              "        text-align: right;\n",
              "    }\n",
              "</style>\n",
              "<table border=\"1\" class=\"dataframe\">\n",
              "  <thead>\n",
              "    <tr style=\"text-align: right;\">\n",
              "      <th></th>\n",
              "      <th>feture_names</th>\n",
              "      <th>pos_prob</th>\n",
              "      <th>neg_prob</th>\n",
              "    </tr>\n",
              "  </thead>\n",
              "  <tbody>\n",
              "    <tr>\n",
              "      <th>146903</th>\n",
              "      <td>mrs</td>\n",
              "      <td>-3.574813</td>\n",
              "      <td>-3.638815</td>\n",
              "    </tr>\n",
              "    <tr>\n",
              "      <th>146914</th>\n",
              "      <td>literacy_language</td>\n",
              "      <td>-3.654183</td>\n",
              "      <td>-3.803658</td>\n",
              "    </tr>\n",
              "    <tr>\n",
              "      <th>146909</th>\n",
              "      <td>grades_prek_2</td>\n",
              "      <td>-3.840224</td>\n",
              "      <td>-3.840687</td>\n",
              "    </tr>\n",
              "    <tr>\n",
              "      <th>146915</th>\n",
              "      <td>math_science</td>\n",
              "      <td>-3.913419</td>\n",
              "      <td>-3.873425</td>\n",
              "    </tr>\n",
              "    <tr>\n",
              "      <th>146904</th>\n",
              "      <td>ms</td>\n",
              "      <td>-3.973205</td>\n",
              "      <td>-3.947199</td>\n",
              "    </tr>\n",
              "    <tr>\n",
              "      <th>146906</th>\n",
              "      <td>grades_3_5</td>\n",
              "      <td>-4.015650</td>\n",
              "      <td>-4.081465</td>\n",
              "    </tr>\n",
              "    <tr>\n",
              "      <th>146938</th>\n",
              "      <td>mathematics</td>\n",
              "      <td>-4.296570</td>\n",
              "      <td>-4.293580</td>\n",
              "    </tr>\n",
              "    <tr>\n",
              "      <th>146936</th>\n",
              "      <td>literacy</td>\n",
              "      <td>-4.086450</td>\n",
              "      <td>-4.293580</td>\n",
              "    </tr>\n",
              "    <tr>\n",
              "      <th>146937</th>\n",
              "      <td>literature_writing</td>\n",
              "      <td>-4.514211</td>\n",
              "      <td>-4.613937</td>\n",
              "    </tr>\n",
              "    <tr>\n",
              "      <th>146907</th>\n",
              "      <td>grades_6_8</td>\n",
              "      <td>-4.799090</td>\n",
              "      <td>-4.771515</td>\n",
              "    </tr>\n",
              "    <tr>\n",
              "      <th>146945</th>\n",
              "      <td>specialneeds</td>\n",
              "      <td>-5.041958</td>\n",
              "      <td>-4.932681</td>\n",
              "    </tr>\n",
              "    <tr>\n",
              "      <th>146917</th>\n",
              "      <td>specialneeds</td>\n",
              "      <td>-5.041958</td>\n",
              "      <td>-4.932681</td>\n",
              "    </tr>\n",
              "    <tr>\n",
              "      <th>146854</th>\n",
              "      <td>ca</td>\n",
              "      <td>-4.884492</td>\n",
              "      <td>-4.960682</td>\n",
              "    </tr>\n",
              "    <tr>\n",
              "      <th>146912</th>\n",
              "      <td>health_sports</td>\n",
              "      <td>-4.987084</td>\n",
              "      <td>-4.978417</td>\n",
              "    </tr>\n",
              "    <tr>\n",
              "      <th>146910</th>\n",
              "      <td>appliedlearning</td>\n",
              "      <td>-5.157645</td>\n",
              "      <td>-5.008456</td>\n",
              "    </tr>\n",
              "    <tr>\n",
              "      <th>146919</th>\n",
              "      <td>appliedsciences</td>\n",
              "      <td>-5.278397</td>\n",
              "      <td>-5.110666</td>\n",
              "    </tr>\n",
              "    <tr>\n",
              "      <th>146908</th>\n",
              "      <td>grades_9_12</td>\n",
              "      <td>-5.248235</td>\n",
              "      <td>-5.169718</td>\n",
              "    </tr>\n",
              "    <tr>\n",
              "      <th>146902</th>\n",
              "      <td>mr</td>\n",
              "      <td>-5.276558</td>\n",
              "      <td>-5.234254</td>\n",
              "    </tr>\n",
              "    <tr>\n",
              "      <th>146916</th>\n",
              "      <td>music_arts</td>\n",
              "      <td>-5.308808</td>\n",
              "      <td>-5.290939</td>\n",
              "    </tr>\n",
              "    <tr>\n",
              "      <th>146893</th>\n",
              "      <td>tx</td>\n",
              "      <td>-5.672627</td>\n",
              "      <td>-5.405430</td>\n",
              "    </tr>\n",
              "  </tbody>\n",
              "</table>\n",
              "</div>"
            ],
            "text/plain": [
              "              feture_names  pos_prob  neg_prob\n",
              "146903                 mrs -3.574813 -3.638815\n",
              "146914   literacy_language -3.654183 -3.803658\n",
              "146909       grades_prek_2 -3.840224 -3.840687\n",
              "146915        math_science -3.913419 -3.873425\n",
              "146904                  ms -3.973205 -3.947199\n",
              "146906          grades_3_5 -4.015650 -4.081465\n",
              "146938         mathematics -4.296570 -4.293580\n",
              "146936            literacy -4.086450 -4.293580\n",
              "146937  literature_writing -4.514211 -4.613937\n",
              "146907          grades_6_8 -4.799090 -4.771515\n",
              "146945        specialneeds -5.041958 -4.932681\n",
              "146917        specialneeds -5.041958 -4.932681\n",
              "146854                  ca -4.884492 -4.960682\n",
              "146912       health_sports -4.987084 -4.978417\n",
              "146910     appliedlearning -5.157645 -5.008456\n",
              "146919     appliedsciences -5.278397 -5.110666\n",
              "146908         grades_9_12 -5.248235 -5.169718\n",
              "146902                  mr -5.276558 -5.234254\n",
              "146916          music_arts -5.308808 -5.290939\n",
              "146893                  tx -5.672627 -5.405430"
            ]
          },
          "metadata": {
            "tags": []
          },
          "execution_count": 192
        }
      ]
    },
    {
      "cell_type": "markdown",
      "metadata": {
        "id": "lS9hIHdib3dp"
      },
      "source": [
        "<h1>3. Summary</h1>\n",
        "\n",
        "<br> as mentioned in the step 5 of instructions\n",
        "<br> based on AUC scores of tst data set for BOW and TF-IDF, BOW gave better results with alpha as 1.I believe This is becasue naive-Bayes is probability based approachin count vectorizer, we get feature vector based on count,tis can be converted to probability very easily.It is simply using this count and dividing by number of words in positive/negative ."
      ]
    },
    {
      "cell_type": "code",
      "metadata": {
        "colab": {
          "base_uri": "https://localhost:8080/",
          "height": 0
        },
        "id": "Jr2Ay5AWTaOb",
        "outputId": "83fb273e-8c4b-431a-bd5b-ec0139749ebb"
      },
      "source": [
        "from prettytable import PrettyTable\n",
        "x = PrettyTable()\n",
        "x.field_names = [\"Vectorizer\", \"Model\", \"Best Alpha \",\"Test AUC\"]\n",
        "x.add_row([\"BOW\",\"Multinomial NB\",bow_best_alpha,str(auc(test_fpr, test_tpr))])\n",
        "x.add_row([\"TF_IDF\",\"Multinomial NB\",tf_idf_best_alpha,str(auc(test_fpr_tfidf, test_tpr_tfidf))])\n",
        "print(x)"
      ],
      "execution_count": 185,
      "outputs": [
        {
          "output_type": "stream",
          "text": [
            "+------------+----------------+-------------+--------------------+\n",
            "| Vectorizer |     Model      | Best Alpha  |      Test AUC      |\n",
            "+------------+----------------+-------------+--------------------+\n",
            "|    BOW     | Multinomial NB |     0.5     | 0.6419821980475606 |\n",
            "|   TF_IDF   | Multinomial NB |     0.05    | 0.5128531384700229 |\n",
            "+------------+----------------+-------------+--------------------+\n"
          ],
          "name": "stdout"
        }
      ]
    },
    {
      "cell_type": "markdown",
      "metadata": {
        "id": "h5bEX3zXVqlJ"
      },
      "source": [
        "#Experimenting with various Hyper parameters using BOW vector representation"
      ]
    },
    {
      "cell_type": "code",
      "metadata": {
        "id": "BcQe6dDxVyGL"
      },
      "source": [
        "hyper_param_dict = {}\n",
        "hyper_param_dict['alpha'] = [0.00001,0.0005, 0.0001,0.005,0.001,0.05,0.01,0.1,0.5,1,5,10,50,100]\n",
        "hyper_param_dict['class_prior'] = [[0.5,0.5],[0.25,0.75],[0.75,0.25],[0.6,0.4]]\n",
        "mnb = MultinomialNB()\n",
        "search = GridSearchCV(mnb,hyper_param_dict,scoring='roc_auc',return_train_score=True)\n",
        "results = search.fit(x_train_bow_data,y_train)"
      ],
      "execution_count": 186,
      "outputs": []
    },
    {
      "cell_type": "code",
      "metadata": {
        "colab": {
          "base_uri": "https://localhost:8080/",
          "height": 0
        },
        "id": "lDBbA1W_W_E5",
        "outputId": "6fe31ea9-bb0c-433c-e2b3-7035afe8be1e"
      },
      "source": [
        "print(results.best_params_)\n",
        "print(results.best_score_)"
      ],
      "execution_count": 187,
      "outputs": [
        {
          "output_type": "stream",
          "text": [
            "{'alpha': 0.5, 'class_prior': [0.25, 0.75]}\n",
            "0.7038280985451698\n"
          ],
          "name": "stdout"
        }
      ]
    },
    {
      "cell_type": "code",
      "metadata": {
        "colab": {
          "base_uri": "https://localhost:8080/",
          "height": 0
        },
        "id": "k2ibbGp1Yj04",
        "outputId": "76943c42-15a4-4b2a-dc06-173784de0b20"
      },
      "source": [
        "predicted = search.predict(x_test_bow_data)\n",
        "test_fpr1,test_tpr1,test_threshold1 = roc_curve(y_test,predicted)\n",
        "print(auc(test_fpr1,test_tpr1))"
      ],
      "execution_count": 188,
      "outputs": [
        {
          "output_type": "stream",
          "text": [
            "0.6495447438438682\n"
          ],
          "name": "stdout"
        }
      ]
    }
  ]
}