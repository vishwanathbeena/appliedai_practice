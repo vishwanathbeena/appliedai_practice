{
  "nbformat": 4,
  "nbformat_minor": 0,
  "metadata": {
    "kernelspec": {
      "display_name": "Python 3",
      "language": "python",
      "name": "python3"
    },
    "language_info": {
      "codemirror_mode": {
        "name": "ipython",
        "version": 3
      },
      "file_extension": ".py",
      "mimetype": "text/x-python",
      "name": "python",
      "nbconvert_exporter": "python",
      "pygments_lexer": "ipython3",
      "version": "3.6.8"
    },
    "colab": {
      "name": "1.Python Assignment.ipynb",
      "provenance": [],
      "collapsed_sections": [],
      "include_colab_link": true
    }
  },
  "cells": [
    {
      "cell_type": "markdown",
      "metadata": {
        "id": "view-in-github",
        "colab_type": "text"
      },
      "source": [
        "<a href=\"https://colab.research.google.com/github/vishwanathbeena/appliedai_practice/blob/main/1_Python_Assignment.ipynb\" target=\"_parent\"><img src=\"https://colab.research.google.com/assets/colab-badge.svg\" alt=\"Open In Colab\"/></a>"
      ]
    },
    {
      "cell_type": "markdown",
      "metadata": {
        "id": "l0ZzOlyxB-kf"
      },
      "source": [
        "<h1>Python: without numpy or sklearn </h1>"
      ]
    },
    {
      "cell_type": "markdown",
      "metadata": {
        "id": "C0xO8JV9B-ki"
      },
      "source": [
        "<h3> Q1: Given two matrices please print the product of those two matrices </h3>\n",
        "<pre>\n",
        "\n",
        "Ex 1: A   = [[1 3 4]\n",
        "             [2 5 7]\n",
        "             [5 9 6]]\n",
        "      B   = [[1 0 0]\n",
        "             [0 1 0]\n",
        "             [0 0 1]]\n",
        "      A*B = [[1 3 4]\n",
        "             [2 5 7]\n",
        "             [5 9 6]]\n",
        "\n",
        "     \n",
        "Ex 2: A   = [[1 2]\n",
        "             [3 4]]\n",
        "      B   = [[1 2 3 4 5]\n",
        "             [5 6 7 8 9]]\n",
        "      A*B = [[11 14 17 20 23]\n",
        "             [23 30 36 42 51]]\n",
        "             \n",
        "Ex 3: A   = [[1 2]\n",
        "             [3 4]]\n",
        "      B   = [[1 4]\n",
        "             [5 6]\n",
        "             [7 8]\n",
        "             [9 6]]\n",
        "      A*B =Not possible\n",
        "</pre>"
      ]
    },
    {
      "cell_type": "code",
      "metadata": {
        "id": "rnssAfpgB-kj",
        "colab": {
          "base_uri": "https://localhost:8080/"
        },
        "outputId": "c6e0b621-51f3-47b1-9971-7b2d0a337c1a"
      },
      "source": [
        "# write your python code here\n",
        "# you can take the above example as sample input for your program to test\n",
        "# it should work for any general input try not to hard code for only given input examples\n",
        "\n",
        "\n",
        "# you can free to change all these codes/structure\n",
        "# here A and B are list of lists\n",
        "def matrix_mul(A, B):\n",
        "    # write your code\n",
        "    if (not isinstance(A,list) and  not isinstance(B,list)):\n",
        "       return 'Please pass two matrices as lists'\n",
        "    rows_of_A = len(A)       \n",
        "    cols_of_A = len(A[0])\n",
        "    rows_of_B = len(B)\n",
        "    cols_of_B = len(B[0])\n",
        "    if cols_of_A != rows_of_B:\n",
        "      return 'A*B is not possible'\n",
        "    result_matrix = []\n",
        "    for i in range(rows_of_A):\n",
        "      row_list = []\n",
        "      for j in range(cols_of_B):\n",
        "        temp_val = 0\n",
        "        for k in range(rows_of_B):\n",
        "          temp_val = temp_val + A[i][k] * B[k][j]\n",
        "        row_list.append(temp_val)\n",
        "      result_matrix.append(row_list)\n",
        "    return result_matrix       \n",
        "\n",
        "A = [[1,2],[3,4],[4,5]]\n",
        "B = [[1,2,3,4,5],[5,6,7,8,9]]\n",
        "result = matrix_mul(A, B)\n",
        "print(result)"
      ],
      "execution_count": null,
      "outputs": [
        {
          "output_type": "stream",
          "text": [
            "[[11, 14, 17, 20, 23], [23, 30, 37, 44, 51], [29, 38, 47, 56, 65]]\n"
          ],
          "name": "stdout"
        }
      ]
    },
    {
      "cell_type": "markdown",
      "metadata": {
        "id": "at4VwLggB-kn"
      },
      "source": [
        "<h3> Q2: Select a number randomly with probability proportional to its magnitude from the given array of n elements</h3>\n",
        "\n",
        "consider an experiment, selecting an element from the list A randomly with probability proportional to its magnitude.\n",
        "assume we are doing the same experiment for 100 times with replacement, in each experiment you will print a number that is selected randomly from A.\n",
        "\n",
        "<pre>\n",
        "Ex 1: A = [0 5 27 6 13 28 100 45 10 79]\n",
        "let f(x) denote the number of times x getting selected in 100 experiments.\n",
        "f(100) > f(79) > f(45) > f(28) > f(27) > f(13) > f(10) > f(6) > f(5) > f(0)\n",
        "</pre>"
      ]
    },
    {
      "cell_type": "code",
      "metadata": {
        "id": "B6S2dpBhB-kn",
        "colab": {
          "base_uri": "https://localhost:8080/"
        },
        "outputId": "0cd2aa55-362b-438d-8158-193a39dcd585"
      },
      "source": [
        "from random import uniform\n",
        "# write your python code here\n",
        "# you can take the above example as sample input for your program to test\n",
        "# it should work for any general input try not to hard code for only given input examples\n",
        "\n",
        "\n",
        "# you can free to change all these codes/structure\n",
        "def pick_a_number_from_list(A):\n",
        "    # your code here for picking an element from with the probability propotional to its magnitude\n",
        "    d_dash = [float(i)/sum(A) for i in A]\n",
        "    d_tilda = [0]*len(d_dash)\n",
        "    for i in range(len(d_dash)):\n",
        "      d_tilda[i] = d_dash[i] + d_tilda[i - 1]\n",
        "    random_var = uniform(0,1)\n",
        "    final_val = None\n",
        "    for i in range(len(d_tilda)):\n",
        "      if random_var <= d_tilda[i]:\n",
        "         final_val = A[i]\n",
        "         break;\n",
        "    return final_val\n",
        "\n",
        "def sampling_based_on_magnitued(A):\n",
        "    final_dict = {}\n",
        "    for i in range(1,100):\n",
        "        number = pick_a_number_from_list(A)\n",
        "        if number in final_dict:\n",
        "            final_dict[number] += 1\n",
        "        else:\n",
        "            final_dict[number] = 1\n",
        "    return final_dict\n",
        "A = [0,5,27,6,13,28,100,45,10,79]\n",
        "sampling_based_on_magnitued(A)"
      ],
      "execution_count": 70,
      "outputs": [
        {
          "output_type": "execute_result",
          "data": {
            "text/plain": [
              "{5: 1, 6: 2, 10: 4, 13: 4, 27: 11, 28: 6, 45: 18, 79: 23, 100: 30}"
            ]
          },
          "metadata": {
            "tags": []
          },
          "execution_count": 70
        }
      ]
    },
    {
      "cell_type": "markdown",
      "metadata": {
        "id": "D1xQy2WWB-kq"
      },
      "source": [
        "<h3> Q3: Replace the digits in the string with #</h3>\n",
        "\n",
        "consider a string that will have digits in that, we need to remove all the not digits and replace the digits with #\n",
        "<pre>\n",
        "Ex 1: A = 234                Output: ###\n",
        "Ex 2: A = a2b3c4             Output: ###\n",
        "Ex 3: A = abc                Output:   (empty string)\n",
        "Ex 5: A = #2a$#b%c%561#      Output: ####\n",
        "</pre>"
      ]
    },
    {
      "cell_type": "code",
      "metadata": {
        "id": "fxczi2jzB-kr",
        "colab": {
          "base_uri": "https://localhost:8080/"
        },
        "outputId": "ff649b9b-f18a-42b8-af9c-ff2bc016d3cb"
      },
      "source": [
        "import re\n",
        "# write your python code here\n",
        "# you can take the above example as sample input for your program to test\n",
        "# it should work for any general input try not to hard code for only given input examples\n",
        "\n",
        "# you can free to change all these codes/structure\n",
        "# String: it will be the input to your program\n",
        "def replace_digits(str_val):\n",
        "    # write your code\n",
        "    # \n",
        "    remove_nondigit = re.sub('[^0-9]','',str_val)\n",
        "    replace_digit = re.sub('[0-9]','#',remove_nondigit)\n",
        "    return(replace_digit) # modified string which is after replacing the # with digits\n",
        "str_val = '#2a$#b%c%561#'\n",
        "print(replace_digits(str_val))"
      ],
      "execution_count": null,
      "outputs": [
        {
          "output_type": "stream",
          "text": [
            "####\n"
          ],
          "name": "stdout"
        }
      ]
    },
    {
      "cell_type": "markdown",
      "metadata": {
        "id": "j7h0Ywg7B-kw"
      },
      "source": [
        "<h3> Q4: Students marks dashboard</h3>\n",
        "\n",
        "consider the marks list of class students given two lists <br>\n",
        "Students = ['student1','student2','student3','student4','student5','student6','student7','student8','student9','student10'] <br>\n",
        "Marks = [45, 78, 12, 14, 48, 43, 45, 98, 35, 80] <br>\n",
        "from the above two lists the Student[0] got Marks[0],  Student[1] got Marks[1] and so on <br><br>\n",
        "your task is to print the name of students\n",
        "<strong>a. Who got top 5 ranks, in the descending order of marks</strong> <br>\n",
        "<strong>b. Who got least 5 ranks, in the increasing order of marks</strong><br>\n",
        "<strong>d. Who got marks between  &gt;25th percentile &lt;75th percentile, in the increasing order of marks</strong>\n",
        "\n",
        "<pre>\n",
        "Ex 1: \n",
        "Students=['student1','student2','student3','student4','student5','student6','student7','student8','student9','student10'] \n",
        "Marks = [45, 78, 12, 14, 48, 43, 47, 98, 35, 80]\n",
        "a. \n",
        "student8  98\n",
        "student10 80\n",
        "student2  78\n",
        "student5  48\n",
        "student7  47\n",
        "b.\n",
        "student3 12\n",
        "student4 14\n",
        "student9 35\n",
        "student6 43\n",
        "student1 45\n",
        "c.\n",
        "student9 35\n",
        "student6 43\n",
        "student1 45\n",
        "student7 47\n",
        "student5 48\n",
        "</pre>"
      ]
    },
    {
      "cell_type": "code",
      "metadata": {
        "id": "cxPJgItsB-kx",
        "colab": {
          "base_uri": "https://localhost:8080/"
        },
        "outputId": "0980443f-1980-4dcc-a4b2-7ab7ebc073a4"
      },
      "source": [
        "# write your python code here\n",
        "# you can take the above example as sample input for your program to test\n",
        "# it should work for any general input try not to hard code for only given input examples\n",
        "\n",
        "# you can free to change all these codes/structure\n",
        "def display_dash_board(students, Marks):\n",
        "    zipped_list = zip(Marks,Students)\n",
        "    sorted_list = sorted(zipped_list)\n",
        "    # write code for computing top top 5 students\n",
        "    top_5_students = sorted_list[:len(sorted_list)-6:-1]\n",
        "    # write code for computing top least 5 students\n",
        "    least_5_students = sorted_list[0:5]\n",
        "    # write code for computing top least 5 students\n",
        "    students_within_25_and_75 = sorted_list[int(len(sorted_list)/4):int((len(sorted_list)*(3/4))+1)]    \n",
        "    return top_5_students, least_5_students, students_within_25_and_75\n",
        "\n",
        "Students=['student1','student2','student3','student4','student5','student6','student7','student8','student9','student10','student11'] \n",
        "Marks = [45, 78, 12, 14, 48, 43, 47, 98, 35, 80,93]\n",
        "zipped_list = zip(Marks,Students)\n",
        "sorted_list = sorted(zipped_list)\n",
        "\n",
        "top_5_students, least_5_students, students_within_25_and_75 = display_dash_board(Students, Marks)\n",
        "print(top_5_students)\n",
        "print(least_5_students)\n",
        "print(students_within_25_and_75)"
      ],
      "execution_count": null,
      "outputs": [
        {
          "output_type": "stream",
          "text": [
            "[(98, 'student8'), (93, 'student11'), (80, 'student10'), (78, 'student2'), (48, 'student5')]\n",
            "[(12, 'student3'), (14, 'student4'), (35, 'student9'), (43, 'student6'), (45, 'student1')]\n",
            "[(35, 'student9'), (43, 'student6'), (45, 'student1'), (47, 'student7'), (48, 'student5'), (78, 'student2'), (80, 'student10')]\n"
          ],
          "name": "stdout"
        }
      ]
    },
    {
      "cell_type": "markdown",
      "metadata": {
        "id": "qha0OhQHB-k1"
      },
      "source": [
        "<h3> Q5: Find the closest points</h3>\n",
        "\n",
        "consider you have given n data points in the form of list of tuples like S=[(x1,y1),(x2,y2),(x3,y3),(x4,y4),(x5,y5),..,(xn,yn)] and a point P=(p,q) <br> your task is to find 5 closest points(based on cosine distance) in S from P\n",
        "<br>cosine distance between two points (x,y) and (p,q) is defind as $cos^{-1}(\\frac{(x\\cdot p+y\\cdot q)}{\\sqrt(x^2+y^2)\\cdot\\sqrt(p^2+q^2)})$\n",
        "<pre>\n",
        "Ex:\n",
        "\n",
        "S= [(1,2),(3,4),(-1,1),(6,-7),(0, 6),(-5,-8),(-1,-1)(6,0),(1,-1)]\n",
        "P= (3,-4)\n",
        "<img src='https://i.imgur.com/vIFPOcG.jpg', width=300>\n",
        "Output:\n",
        "(6,-7)\n",
        "(1,-1)\n",
        "(6,0)\n",
        "(-5,-8)\n",
        "(-1,-1)\n",
        "</pre>"
      ]
    },
    {
      "cell_type": "code",
      "metadata": {
        "id": "wA5I1g-2B-k2",
        "colab": {
          "base_uri": "https://localhost:8080/"
        },
        "outputId": "6d1327d9-ebc8-4a65-f5d1-583f29a92f47"
      },
      "source": [
        "import math\n",
        "\n",
        "# write your python code here\n",
        "# you can take the above example as sample input for your program to test\n",
        "# it should work for any general input try not to hard code for only given input examples\n",
        "# you can free to change all these codes/structure\n",
        "\n",
        "\n",
        "# here S is list of tuples and P is a tuple ot len=2\n",
        "def closest_points_to_p(S, P):\n",
        "    # write your code here\n",
        "    distnace_list=[]\n",
        "    for point in S:\n",
        "      numerator = (point[0]*P[0]) + (point[1]*P[1])\n",
        "      denominator = math.sqrt((math.pow(point[0],2) + math.pow(point[1],2)) * (math.pow(P[0],2) + math.pow(P[1],2)))\n",
        "      dist = math.acos(numerator/denominator)\n",
        "      distnace_list.append((round(dist,4),point))\n",
        "      sorted_list = sorted(distnace_list)\n",
        "    return sorted_list[0:5] # its list of tuples\n",
        "\n",
        "S= [(1,2),(3,4),(-1,1),(6,-7),(0, 6),(-5,-8),(-1,-1),(6,0),(1,-1)]\n",
        "P= (3,-4)\n",
        "points = closest_points_to_p(S, P)\n",
        "print(points) #print the returned values"
      ],
      "execution_count": 38,
      "outputs": [
        {
          "output_type": "stream",
          "text": [
            "[(0.0651, (6, -7)), (0.1419, (1, -1)), (0.9273, (6, 0)), (1.2021, (-5, -8)), (1.4289, (-1, -1))]\n"
          ],
          "name": "stdout"
        }
      ]
    },
    {
      "cell_type": "markdown",
      "metadata": {
        "id": "-g11jeAiB-k5"
      },
      "source": [
        "<h3> Q6: Find Which line separates oranges and apples</h3>\n",
        "consider you have given two set of data points in the form of list of tuples like \n",
        "<pre>\n",
        "Red =[(R11,R12),(R21,R22),(R31,R32),(R41,R42),(R51,R52),..,(Rn1,Rn2)]\n",
        "Blue=[(B11,B12),(B21,B22),(B31,B32),(B41,B42),(B51,B52),..,(Bm1,Bm2)]\n",
        "</pre>\n",
        "and set of line equations(in the string formate, i.e list of strings)\n",
        "<pre>\n",
        "Lines = [a1x+b1y+c1,a2x+b2y+c2,a3x+b3y+c3,a4x+b4y+c4,..,K lines]\n",
        "Note: you need to string parsing here and get the coefficients of x,y and intercept\n",
        "</pre>\n",
        "your task is to for each line that is given print \"YES\"/\"NO\", you will print yes, if all the red points are one side of the line and blue points are other side of the line, otherwise no\n",
        "<pre>\n",
        "Ex:\n",
        "Red= [(1,1),(2,1),(4,2),(2,4), (-1,4)]\n",
        "Blue= [(-2,-1),(-1,-2),(-3,-2),(-3,-1),(1,-3)]\n",
        "Lines=[\"1x+1y+0\",\"1x-1y+0\",\"1x+0y-3\",\"0x+1y-0.5\"]\n",
        "<img src='https://i.imgur.com/DoQf7mE.jpg' width=400>\n",
        "Output:\n",
        "YES\n",
        "NO\n",
        "NO\n",
        "YES\n",
        "</pre>"
      ]
    },
    {
      "cell_type": "code",
      "metadata": {
        "id": "eRxExaTRB-k6",
        "colab": {
          "base_uri": "https://localhost:8080/"
        },
        "outputId": "2608f597-6c84-4d6c-846d-ee1f69c556bc"
      },
      "source": [
        "import math\n",
        "import re\n",
        "# write your python code here\n",
        "# you can take the above example as sample input for your program to test\n",
        "# it should work for any general input try not to hard code for only given input strings\n",
        "\n",
        "\n",
        "# you can free to change all these codes/structure\n",
        "def i_am_the_one(red,blue,line):\n",
        "    # your code\n",
        "    red_distance_set = set()\n",
        "    blue_distance_set = set()\n",
        "    for point in red:\n",
        "      red_line = line.replace('x','*'+str(point[0]))\n",
        "      red_line = red_line.replace('y','*'+str(point[1]))      \n",
        "      distance = eval(red_line)\n",
        "      #print('Red diatnce is {}'.format(distance))\n",
        "      if distance > 0:\n",
        "        red_distance_set.add('P')\n",
        "      else:\n",
        "        red_distance_set.add('N')\n",
        "\n",
        "    for point in blue:\n",
        "      blue_line = line.replace('x','*'+str(point[0]))\n",
        "      blue_line = blue_line.replace('y','*'+str(point[1]))      \n",
        "      distance = eval(blue_line)\n",
        "      #print('Blue diatnce is {}'.format(distance))\n",
        "      if distance > 0:\n",
        "        blue_distance_set.add('P')\n",
        "      else:\n",
        "        blue_distance_set.add('N')\n",
        "      \n",
        "    if (len(red_distance_set) == 1 and len(blue_distance_set) ==1 and red_distance_set != blue_distance_set):\n",
        "      return 'Yes'\n",
        "    else:\n",
        "      return 'No'\n",
        "\n",
        "    \n",
        "    return point #yes/no\n",
        "\n",
        "Red= [(1,1),(2,1),(4,2),(2,4), (-1,4)]\n",
        "Blue= [(-2,-1),(-1,-2),(-3,-2),(-3,-1),(1,-3)]\n",
        "Lines=[\"1x+1y+0\",\"1x-1y+0\",\"1x+0y-3\",\"0x+1y-0.5\"]\n",
        "#Lines=[\"1x+0y-3\"]\n",
        "\n",
        "for i in Lines:\n",
        "    yes_or_no = i_am_the_one(Red, Blue, i)\n",
        "    print(yes_or_no) # the returned value"
      ],
      "execution_count": null,
      "outputs": [
        {
          "output_type": "stream",
          "text": [
            "Yes\n",
            "No\n",
            "No\n",
            "Yes\n"
          ],
          "name": "stdout"
        }
      ]
    },
    {
      "cell_type": "markdown",
      "metadata": {
        "id": "9OBpURbNB-k9"
      },
      "source": [
        "<h3> Q7: Filling the missing values in the specified formate</h3>\n",
        "You will be given a string with digits and '\\_'(missing value) symbols you have to replace the '\\_' symbols as explained \n",
        "<pre>\n",
        "Ex 1: _, _, _, 24 ==> 24/4, 24/4, 24/4, 24/4 i.e we. have distributed the 24 equally to all 4 places <br>\n",
        "Ex 2: 40, _, _, _, 60 ==> (60+40)/5,(60+40)/5,(60+40)/5,(60+40)/5,(60+40)/5 ==> 20, 20, 20, 20, 20 i.e. the sum of (60+40) is distributed qually to all 5 places<br>\n",
        "Ex 3: 80, _, _, _, _  ==> 80/5,80/5,80/5,80/5,80/5 ==> 16, 16, 16, 16, 16 i.e. the 80 is distributed qually to all 5 missing values that are right to it<br>\n",
        "Ex 4: _, _, 30, _, _, _, 50, _, _  \n",
        "==> we will fill the missing values from left to right \n",
        "    a. first we will distribute the 30 to left two missing values (10, 10, 10, _, _, _, 50, _, _)\n",
        "    b. now distribute the sum (10+50) missing values in between (10, 10, 12, 12, 12, 12, 12, _, _) \n",
        "    c. now we will distribute 12 to right side missing values (10, 10, 12, 12, 12, 12, 4, 4, 4)\n",
        "</pre>\n",
        "for a given string with comma seprate values, which will have both missing values numbers like ex: \"_, _, x, _, _, _\"\n",
        "you need fill the missing values\n",
        "\n",
        "Q: your program reads a string like ex: \"_, _, x, _, _, _\" and returns the filled sequence\n",
        "\n",
        "Ex: \n",
        "<pre>\n",
        "Input1: \"_,_,_,24\"\n",
        "Output1: 6,6,6,6\n",
        "\n",
        "Input2: \"40,_,_,_,60\"\n",
        "Output2: 20,20,20,20,20\n",
        "\n",
        "Input3: \"80,_,_,_,_\"\n",
        "Output3: 16,16,16,16,16\n",
        "\n",
        "Input4: \"_,_,30,_,_,_,50,_,_\"\n",
        "Output4: 10,10,12,12,12,12,4,4,4\n",
        "</pre>\n",
        "\n"
      ]
    },
    {
      "cell_type": "code",
      "metadata": {
        "id": "nZmpzHs_B-k-",
        "colab": {
          "base_uri": "https://localhost:8080/"
        },
        "outputId": "8d67307f-da4c-414c-fa03-567e9701fc3b"
      },
      "source": [
        "# write your python code here\n",
        "# you can take the above example as sample input for your program to test\n",
        "# it should work for any general input try not to hard code for only given input strings\n",
        "\n",
        "import math\n",
        "# you can free to change all these codes/structure\n",
        "def curve_smoothing(s):\n",
        "    # your code\n",
        "    str_arr = s.split(\",\")\n",
        "    array_len = len(str_arr)\n",
        "    strt_index = 0\n",
        "    \n",
        "    for i in range(len(str_arr)):\n",
        "      if str_arr[i] != '_':\n",
        "        non_zero_index = i\n",
        "        temp_val = str_arr[i]\n",
        "        if strt_index == 0 and str_arr[strt_index] == '_':   \n",
        "          temp_val = int(int(str_arr[i])/(i+1))\n",
        "        else:\n",
        "          if strt_index != i:\n",
        "            temp_val =  int((int(str_arr[strt_index])+int(str_arr[i]))/((i - strt_index) + 1))\n",
        "        for j in range(strt_index,i+1):\n",
        "            str_arr[j] = temp_val        \n",
        "        strt_index = i\n",
        "      else:\n",
        "        strt_index = min(strt_index,i)\n",
        "        if i == (array_len - 1):\n",
        "          temp_val = int(int(str_arr[strt_index])/(array_len - strt_index))\n",
        "          for k in range(strt_index,array_len):\n",
        "            str_arr[k] = temp_val\n",
        "    \n",
        "\n",
        "    return str_arr #list of values\n",
        "\n",
        "s =  \"_,_,30,_,_,_,50,_,_\"\n",
        "#s =  \"_,_,30\"\n",
        "smoothed_values = curve_smoothing(s)\n",
        "print(smoothed_values)\n"
      ],
      "execution_count": null,
      "outputs": [
        {
          "output_type": "stream",
          "text": [
            "[10, 10, 12, 12, 12, 12, 4, 4, 4]\n"
          ],
          "name": "stdout"
        }
      ]
    },
    {
      "cell_type": "markdown",
      "metadata": {
        "id": "RBz4pzlfB-lB"
      },
      "source": [
        "<h3> Q8: Filling the missing values in the specified formate</h3>\n",
        "You will be given a list of lists, each sublist will be of length 2 i.e. [[x,y],[p,q],[l,m]..[r,s]]\n",
        "consider its like a martrix of n rows and two columns\n",
        "1. the first column F will contain only 5 uniques values (F1, F2, F3, F4, F5)\n",
        "2. the second column S will contain only 3 uniques values (S1, S2, S3)\n",
        "<pre>\n",
        "your task is to find\n",
        "a. Probability of P(F=F1|S==S1), P(F=F1|S==S2), P(F=F1|S==S3)\n",
        "b. Probability of P(F=F2|S==S1), P(F=F2|S==S2), P(F=F2|S==S3)\n",
        "c. Probability of P(F=F3|S==S1), P(F=F3|S==S2), P(F=F3|S==S3)\n",
        "d. Probability of P(F=F4|S==S1), P(F=F4|S==S2), P(F=F4|S==S3)\n",
        "e. Probability of P(F=F5|S==S1), P(F=F5|S==S2), P(F=F5|S==S3)\n",
        "</pre>\n",
        "Ex:\n",
        "\n",
        "<pre>\n",
        "[[F1,S1],[F2,S2],[F3,S3],[F1,S2],[F2,S3],[F3,S2],[F2,S1],[F4,S1],[F4,S3],[F5,S1]]\n",
        "\n",
        "a. P(F=F1|S==S1)=1/4, P(F=F1|S==S2)=1/3, P(F=F1|S==S3)=0/3\n",
        "b. P(F=F2|S==S1)=1/4, P(F=F2|S==S2)=1/3, P(F=F2|S==S3)=1/3\n",
        "c. P(F=F3|S==S1)=0/4, P(F=F3|S==S2)=1/3, P(F=F3|S==S3)=1/3\n",
        "d. P(F=F4|S==S1)=1/4, P(F=F4|S==S2)=0/3, P(F=F4|S==S3)=1/3\n",
        "e. P(F=F5|S==S1)=1/4, P(F=F5|S==S2)=0/3, P(F=F5|S==S3)=0/3\n",
        "</pre>\n",
        "\n",
        "\n"
      ]
    },
    {
      "cell_type": "code",
      "metadata": {
        "id": "e-1giz1MB-lC",
        "colab": {
          "base_uri": "https://localhost:8080/"
        },
        "outputId": "13ce74b8-f20c-4bd7-a845-4af897a01f84"
      },
      "source": [
        "# write your python code here\n",
        "# you can take the above example as sample input for your program to test\n",
        "# it should work for any general input try not to hard code for only given input strings\n",
        "#from collections import Counter\n",
        "\n",
        "\n",
        "# you can free to change all these codes/structure\n",
        "def construct_dictionaries(A):\n",
        "  list_dict = {}\n",
        "  F_dict = {}\n",
        "  S_dict = {}\n",
        "  for item in A:\n",
        "    if tuple(item) in list_dict:      \n",
        "      list_dict[tuple(item)] += 1\n",
        "    else:\n",
        "      list_dict[tuple(item)] = 1\n",
        "    for sub_list_item in item:\n",
        "      if sub_list_item[0] == 'F':\n",
        "          if sub_list_item in F_dict:\n",
        "              F_dict[sub_list_item] += 1\n",
        "          else:\n",
        "            F_dict[sub_list_item] = 1\n",
        "      else:\n",
        "          if sub_list_item in S_dict:\n",
        "              S_dict[sub_list_item] += 1\n",
        "          else:\n",
        "            S_dict[sub_list_item] = 1\n",
        "  return list_dict,F_dict,S_dict\n",
        "\n",
        "def compute_conditional_probabilites(A):\n",
        "  list_dict,F_dict,S_dict = construct_dictionaries(A)\n",
        "  str_format = 'P(F={}|S=={})={}'\n",
        "  result_list = []\n",
        "  \n",
        "  for f_val in F_dict:\n",
        "    for s_val in S_dict:\n",
        "      prob_val = 0\n",
        "      if tuple([f_val,s_val]) in list_dict:\n",
        "        prob_val = str(list_dict[tuple([f_val,s_val])])+'/'+str(S_dict[s_val])\n",
        "      else:\n",
        "        prob_val  = '0/'+str(S_dict[s_val])\n",
        "      result_list.append(str_format.format(f_val,s_val,prob_val))\n",
        "  return result_list\n",
        "\n",
        "    # your code\n",
        "    # print the output as per the instructions\n",
        "\n",
        "A = [['F1','S1'],['F2','S2'],['F3','S3'],['F1','S2'],['F2','S3'],['F3','S2'],['F2','S1'],['F4','S1'],['F4','S3'],['F5','S1']]\n",
        "result = compute_conditional_probabilites(A)\n",
        "for res in result:\n",
        "  print(res)"
      ],
      "execution_count": 37,
      "outputs": [
        {
          "output_type": "stream",
          "text": [
            "P(F=F1|S==S1)=1/4\n",
            "P(F=F1|S==S2)=1/3\n",
            "P(F=F1|S==S3)=0/3\n",
            "P(F=F2|S==S1)=1/4\n",
            "P(F=F2|S==S2)=1/3\n",
            "P(F=F2|S==S3)=1/3\n",
            "P(F=F3|S==S1)=0/4\n",
            "P(F=F3|S==S2)=1/3\n",
            "P(F=F3|S==S3)=1/3\n",
            "P(F=F4|S==S1)=1/4\n",
            "P(F=F4|S==S2)=0/3\n",
            "P(F=F4|S==S3)=1/3\n",
            "P(F=F5|S==S1)=1/4\n",
            "P(F=F5|S==S2)=0/3\n",
            "P(F=F5|S==S3)=0/3\n"
          ],
          "name": "stdout"
        }
      ]
    },
    {
      "cell_type": "markdown",
      "metadata": {
        "id": "n4HS87QmB-lF"
      },
      "source": [
        "<h3> Q9: Given two sentances S1, S2</h3>\n",
        "You will be given two sentances S1, S2 your task is to find \n",
        "<pre>\n",
        "a. Number of common words between S1, S2\n",
        "b. Words in S1 but not in S2\n",
        "c. Words in S2 but not in S1\n",
        "</pre>\n",
        "\n",
        "Ex: \n",
        "<pre>\n",
        "S1= \"the first column F will contain only 5 uniques values\"\n",
        "S2= \"the second column S will contain only 3 uniques values\"\n",
        "Output:\n",
        "a. 7\n",
        "b. ['first','F','5']\n",
        "c. ['second','S','3']\n",
        "</pre>"
      ]
    },
    {
      "cell_type": "code",
      "metadata": {
        "id": "Ez7hlHK0B-lG",
        "colab": {
          "base_uri": "https://localhost:8080/"
        },
        "outputId": "33ced7e3-c0e4-42d2-aef4-3527bc3677cb"
      },
      "source": [
        "# write your python code here\n",
        "# you can take the above example as sample input for your program to test\n",
        "# it should work for any general input try not to hard code for only given input strings\n",
        "\n",
        "# you can free to change all these codes/structure\n",
        "def string_features(S1, S2):\n",
        "    # your code\n",
        "    s1_set = set(S1.split())\n",
        "    s2_set = set(S2.split())\n",
        "    common_count = len(s1_set & s2_set)\n",
        "    S1_NOT_S2 = [i for i in s1_set - s2_set]\n",
        "    S2_NOT_S1 = [i for i in s2_set - s1_set]\n",
        "    return common_count, S1_NOT_S2,S2_NOT_S1\n",
        "\n",
        "S1= \"the first column F will contain only 5 uniques values\"\n",
        "S2= \"the second column S will contain only 3 uniques values\"\n",
        "a,b,c = string_features(S1, S2)\n",
        "print(a)\n",
        "print(b)\n",
        "print(c)"
      ],
      "execution_count": 7,
      "outputs": [
        {
          "output_type": "stream",
          "text": [
            "7\n",
            "['F', '5', 'first']\n",
            "['second', 'S', '3']\n"
          ],
          "name": "stdout"
        }
      ]
    },
    {
      "cell_type": "markdown",
      "metadata": {
        "id": "XefXVEjCB-lI"
      },
      "source": [
        "<h3> Q10: Given two sentances S1, S2</h3>\n",
        "You will be given a list of lists, each sublist will be of length 2 i.e. [[x,y],[p,q],[l,m]..[r,s]]\n",
        "consider its like a martrix of n rows and two columns\n",
        "\n",
        "a. the first column Y will contain interger values <br>\n",
        "b. the second column $Y_{score}$ will be having float values <br>\n",
        "Your task is to find the value of $f(Y,Y_{score}) = -1*\\frac{1}{n}\\Sigma_{for each Y,Y_{score} pair}(Ylog10(Y_{score})+(1-Y)log10(1-Y_{score}))$ here n is the number of rows in the matrix\n",
        "<pre>\n",
        "Ex:\n",
        "[[1, 0.4], [0, 0.5], [0, 0.9], [0, 0.3], [0, 0.6], [1, 0.1], [1, 0.9], [1, 0.8]]\n",
        "output:\n",
        "0.4243099\n",
        "</pre>\n",
        "$\\frac{-1}{8}\\cdot((1\\cdot log_{10}(0.4)+0\\cdot log_{10}(0.6))+(0\\cdot log_{10}(0.5)+1\\cdot log_{10}(0.5)) + ... + (1\\cdot log_{10}(0.8)+0\\cdot log_{10}(0.2)) )$"
      ]
    },
    {
      "cell_type": "code",
      "metadata": {
        "id": "N9zkagyNB-lJ",
        "colab": {
          "base_uri": "https://localhost:8080/"
        },
        "outputId": "dd31ff0c-cb11-403e-c1f5-492e11f656cb"
      },
      "source": [
        "# write your python code here\n",
        "# you can take the above example as sample input for your program to test\n",
        "# it should work for any general input try not to hard code for only given input strings\n",
        "import math\n",
        "\n",
        "# you can free to change all these codes/structure\n",
        "def compute_log_loss(A):\n",
        "    len_A = len(A)\n",
        "    x = 0\n",
        "    for item in A:\n",
        "      x += ( ( item[0]*math.log10(item[1]) ) + ( (1-item[0])*math.log10(1-item[1])) ) \n",
        "    return ((-1/len_A)*x)\n",
        "\n",
        "A = [[1, 0.4], [0, 0.5], [0, 0.9], [0, 0.3], [0, 0.6], [1, 0.1], [1, 0.9], [1, 0.8]]\n",
        "loss = compute_log_loss(A)\n",
        "print(loss)"
      ],
      "execution_count": 35,
      "outputs": [
        {
          "output_type": "stream",
          "text": [
            "0.42430993457031635\n"
          ],
          "name": "stdout"
        }
      ]
    }
  ]
}