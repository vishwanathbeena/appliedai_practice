{
  "nbformat": 4,
  "nbformat_minor": 0,
  "metadata": {
    "kernelspec": {
      "display_name": "Python 3",
      "language": "python",
      "name": "python3"
    },
    "language_info": {
      "codemirror_mode": {
        "name": "ipython",
        "version": 3
      },
      "file_extension": ".py",
      "mimetype": "text/x-python",
      "name": "python",
      "nbconvert_exporter": "python",
      "pygments_lexer": "ipython3",
      "version": "3.6.8"
    },
    "colab": {
      "name": "8D_LR_SVM.ipynb",
      "provenance": [],
      "collapsed_sections": [],
      "include_colab_link": true
    }
  },
  "cells": [
    {
      "cell_type": "markdown",
      "metadata": {
        "id": "view-in-github",
        "colab_type": "text"
      },
      "source": [
        "<a href=\"https://colab.research.google.com/github/vishwanathbeena/appliedai_practice/blob/main/8D_LR_SVM.ipynb\" target=\"_parent\"><img src=\"https://colab.research.google.com/assets/colab-badge.svg\" alt=\"Open In Colab\"/></a>"
      ]
    },
    {
      "cell_type": "markdown",
      "metadata": {
        "id": "86Tvnj5UblTy"
      },
      "source": [
        "## Task-D: Collinear features and their effect on linear models"
      ]
    },
    {
      "cell_type": "code",
      "metadata": {
        "id": "qn_eOn2EblT3"
      },
      "source": [
        "%matplotlib inline\n",
        "import warnings\n",
        "warnings.filterwarnings(\"ignore\")\n",
        "import pandas as pd\n",
        "import numpy as np\n",
        "from sklearn.datasets import load_iris\n",
        "from sklearn.linear_model import SGDClassifier\n",
        "from sklearn.model_selection import GridSearchCV\n",
        "import seaborn as sns\n",
        "import matplotlib.pyplot as plt"
      ],
      "execution_count": null,
      "outputs": []
    },
    {
      "cell_type": "code",
      "metadata": {
        "id": "VMoYWIayblUB"
      },
      "source": [
        "data = pd.read_csv('/content/task_d.csv')"
      ],
      "execution_count": null,
      "outputs": []
    },
    {
      "cell_type": "code",
      "metadata": {
        "id": "RfStXG4tblUI",
        "colab": {
          "base_uri": "https://localhost:8080/",
          "height": 200
        },
        "outputId": "0b5b9e04-0d38-4ebf-8358-e40be234bf4e"
      },
      "source": [
        "data.head()"
      ],
      "execution_count": null,
      "outputs": [
        {
          "output_type": "execute_result",
          "data": {
            "text/html": [
              "<div>\n",
              "<style scoped>\n",
              "    .dataframe tbody tr th:only-of-type {\n",
              "        vertical-align: middle;\n",
              "    }\n",
              "\n",
              "    .dataframe tbody tr th {\n",
              "        vertical-align: top;\n",
              "    }\n",
              "\n",
              "    .dataframe thead th {\n",
              "        text-align: right;\n",
              "    }\n",
              "</style>\n",
              "<table border=\"1\" class=\"dataframe\">\n",
              "  <thead>\n",
              "    <tr style=\"text-align: right;\">\n",
              "      <th></th>\n",
              "      <th>x</th>\n",
              "      <th>y</th>\n",
              "      <th>z</th>\n",
              "      <th>x*x</th>\n",
              "      <th>2*y</th>\n",
              "      <th>2*z+3*x*x</th>\n",
              "      <th>w</th>\n",
              "      <th>target</th>\n",
              "    </tr>\n",
              "  </thead>\n",
              "  <tbody>\n",
              "    <tr>\n",
              "      <th>0</th>\n",
              "      <td>-0.581066</td>\n",
              "      <td>0.841837</td>\n",
              "      <td>-1.012978</td>\n",
              "      <td>-0.604025</td>\n",
              "      <td>0.841837</td>\n",
              "      <td>-0.665927</td>\n",
              "      <td>-0.536277</td>\n",
              "      <td>0</td>\n",
              "    </tr>\n",
              "    <tr>\n",
              "      <th>1</th>\n",
              "      <td>-0.894309</td>\n",
              "      <td>-0.207835</td>\n",
              "      <td>-1.012978</td>\n",
              "      <td>-0.883052</td>\n",
              "      <td>-0.207835</td>\n",
              "      <td>-0.917054</td>\n",
              "      <td>-0.522364</td>\n",
              "      <td>0</td>\n",
              "    </tr>\n",
              "    <tr>\n",
              "      <th>2</th>\n",
              "      <td>-1.207552</td>\n",
              "      <td>0.212034</td>\n",
              "      <td>-1.082312</td>\n",
              "      <td>-1.150918</td>\n",
              "      <td>0.212034</td>\n",
              "      <td>-1.166507</td>\n",
              "      <td>0.205738</td>\n",
              "      <td>0</td>\n",
              "    </tr>\n",
              "    <tr>\n",
              "      <th>3</th>\n",
              "      <td>-1.364174</td>\n",
              "      <td>0.002099</td>\n",
              "      <td>-0.943643</td>\n",
              "      <td>-1.280666</td>\n",
              "      <td>0.002099</td>\n",
              "      <td>-1.266540</td>\n",
              "      <td>-0.665720</td>\n",
              "      <td>0</td>\n",
              "    </tr>\n",
              "    <tr>\n",
              "      <th>4</th>\n",
              "      <td>-0.737687</td>\n",
              "      <td>1.051772</td>\n",
              "      <td>-1.012978</td>\n",
              "      <td>-0.744934</td>\n",
              "      <td>1.051772</td>\n",
              "      <td>-0.792746</td>\n",
              "      <td>-0.735054</td>\n",
              "      <td>0</td>\n",
              "    </tr>\n",
              "  </tbody>\n",
              "</table>\n",
              "</div>"
            ],
            "text/plain": [
              "          x         y         z  ...  2*z+3*x*x         w  target\n",
              "0 -0.581066  0.841837 -1.012978  ...  -0.665927 -0.536277       0\n",
              "1 -0.894309 -0.207835 -1.012978  ...  -0.917054 -0.522364       0\n",
              "2 -1.207552  0.212034 -1.082312  ...  -1.166507  0.205738       0\n",
              "3 -1.364174  0.002099 -0.943643  ...  -1.266540 -0.665720       0\n",
              "4 -0.737687  1.051772 -1.012978  ...  -0.792746 -0.735054       0\n",
              "\n",
              "[5 rows x 8 columns]"
            ]
          },
          "metadata": {
            "tags": []
          },
          "execution_count": 103
        }
      ]
    },
    {
      "cell_type": "code",
      "metadata": {
        "id": "JIIuomCkblUP"
      },
      "source": [
        "X = data.drop(['target'], axis=1).values\n",
        "Y = data['target'].values"
      ],
      "execution_count": null,
      "outputs": []
    },
    {
      "cell_type": "code",
      "metadata": {
        "id": "XTSjIrbw1LvF"
      },
      "source": [
        "features = data.drop(['target'], axis=1).columns.values"
      ],
      "execution_count": null,
      "outputs": []
    },
    {
      "cell_type": "markdown",
      "metadata": {
        "id": "Ydm98u3EblUU"
      },
      "source": [
        "### Doing perturbation test to check the presence of collinearity  \n",
        "\n",
        "#### Task: 1 Logistic Regression\n",
        "<pre>\n",
        "\n",
        "\n",
        "1. <b>Finding the Correlation between the features</b>\n",
        "    a. check the correlation between the features\n",
        "    b. plot heat map of correlation matrix using seaborn heatmap\n",
        "2. <b>Finding the best model for the given data</b>\n",
        "    a. Train Logistic regression on data(X,Y) that we have created in the above cell\n",
        "    b. Find the best hyper prameter alpha with hyper parameter tuning using k-fold cross validation (grid search CV or         \n",
        "    random search CV make sure you choose the alpha in log space)\n",
        "    c. Creat a new Logistic regression with the best alpha\n",
        "    (search for how to get the best hyper parameter value), name the best model as 'best_model'\n",
        "    \n",
        "3. <b>Getting the weights with the original data</b>\n",
        "    a. train the 'best_model' with X, Y\n",
        "    b. Check the accuracy of the model 'best_model_accuracy'\n",
        "    c. Get the weights W using best_model.coef_\n",
        "\n",
        "4. <b>Modifying original data</b>\n",
        "    a. Add a noise(order of 10^-2) to each element of X \n",
        "    and get the new data set X' (X' = X + e)\n",
        "    b. Train the same 'best_model' with data (X', Y)\n",
        "    c. Check the accuracy of the model 'best_model_accuracy_edited'\n",
        "    d. Get the weights W' using best_model.coef_\n",
        "    \n",
        "5. <b> Checking deviations in metric and weights </b>\n",
        "    a. find the difference between 'best_model_accuracy_edited' and 'best_model_accuracy'\n",
        "    b. find the absolute change between each value of W and W' ==> |(W-W')|\n",
        "    c. print the top 4 features which have higher % change in weights \n",
        "    compare to the other feature\n",
        "\n",
        "</pre>\n",
        "\n",
        "#### Task: 2 Linear SVM\n",
        "\n",
        "<pre>\n",
        "1. Do the same steps (2, 3, 4, 5) we have done in the above task 1.\n",
        "</pre>\n",
        "\n",
        "<strong><font color='red'>Do write the observations based on the results you get from the deviations of weights in both Logistic Regression and linear SVM</font></strong>"
      ]
    },
    {
      "cell_type": "markdown",
      "metadata": {
        "id": "hX1aCFKgoURv"
      },
      "source": [
        "#Task 1:"
      ]
    },
    {
      "cell_type": "code",
      "metadata": {
        "colab": {
          "base_uri": "https://localhost:8080/"
        },
        "id": "Mjn0zPMqoR2q",
        "outputId": "23b07978-6e28-4746-e697-e16da7a2ce8c"
      },
      "source": [
        "cor_mat = data.corr()\n",
        "print(cor_mat)"
      ],
      "execution_count": null,
      "outputs": [
        {
          "output_type": "stream",
          "text": [
            "                  x         y         z  ...  2*z+3*x*x         w    target\n",
            "x          1.000000 -0.205926  0.812458  ...   0.996252  0.583277  0.728290\n",
            "y         -0.205926  1.000000 -0.602663  ...  -0.261123 -0.401790 -0.690684\n",
            "z          0.812458 -0.602663  1.000000  ...   0.847163  0.674486  0.969990\n",
            "x*x        0.997947 -0.209289  0.807137  ...   0.997457  0.583803  0.719570\n",
            "2*y       -0.205926  1.000000 -0.602663  ...  -0.261123 -0.401790 -0.690684\n",
            "2*z+3*x*x  0.996252 -0.261123  0.847163  ...   1.000000  0.606860  0.764729\n",
            "w          0.583277 -0.401790  0.674486  ...   0.606860  1.000000  0.641750\n",
            "target     0.728290 -0.690684  0.969990  ...   0.764729  0.641750  1.000000\n",
            "\n",
            "[8 rows x 8 columns]\n"
          ],
          "name": "stdout"
        }
      ]
    },
    {
      "cell_type": "code",
      "metadata": {
        "colab": {
          "base_uri": "https://localhost:8080/",
          "height": 330
        },
        "id": "92qSNhCjovPi",
        "outputId": "457e91dc-35e7-485c-beb5-66b1fa71e1ee"
      },
      "source": [
        "sns.heatmap(cor_mat,cmap=\"YlGnBu\")\n"
      ],
      "execution_count": null,
      "outputs": [
        {
          "output_type": "execute_result",
          "data": {
            "text/plain": [
              "<matplotlib.axes._subplots.AxesSubplot at 0x7fe93a281fd0>"
            ]
          },
          "metadata": {
            "tags": []
          },
          "execution_count": 107
        },
        {
          "output_type": "display_data",
          "data": {
            "image/png": "[encoded data removed]",
            "text/plain": [
              "<Figure size 432x288 with 2 Axes>"
            ]
          },
          "metadata": {
            "tags": [],
            "needs_background": "light"
          }
        }
      ]
    },
    {
      "cell_type": "code",
      "metadata": {
        "colab": {
          "base_uri": "https://localhost:8080/",
          "height": 423
        },
        "id": "QCqKr83ZqowF",
        "outputId": "7a8ae016-d04a-41a4-9729-7ac55105b0b2"
      },
      "source": [
        "\n",
        "from sklearn.metrics import accuracy_score\n",
        "hyper_param_dict = {}\n",
        "hyper_param_dict['alpha'] = [0.00001,0.0001,0.001,0.01,0.1,1]\n",
        "# hyper_param_dict['loss'] = ['log']\n",
        "# hyper_param_dict['eta0'] = [0.001]\n",
        "# hyper_param_dict['learning_rate'] = ['constant']\n",
        "# hyper_param_dict['random_state'] = [0]\n",
        "\n",
        "clf = SGDClassifier(eta0=0.001,learning_rate='constant',random_state=0,loss='log')\n",
        "search = GridSearchCV(clf,hyper_param_dict,scoring='accuracy',cv=5,return_train_score=True)\n",
        "results = search.fit(X,Y)\n",
        "best_estimator = results.best_estimator_\n",
        "best_estimator.fit(X,Y)\n",
        "trainY = best_estimator.predict(X)\n",
        "best_model_accuracy = accuracy_score(Y,trainY)\n",
        "best_model_coef = best_estimator.coef_\n",
        "print('best model weights are {}'.format(best_model_coef))\n",
        "X_dash = X + 0.001\n",
        "best_estimator.fit(X_dash,Y)\n",
        "testY = best_estimator.predict(X_dash)\n",
        "best_model_edited_accuracy = accuracy_score(Y,testY)\n",
        "best_model_edited_coef = best_estimator.coef_\n",
        "print('best model edited weights are {}'.format(best_model_edited_coef))\n",
        "accuracy_diff = np.abs(best_model_accuracy - best_model_edited_accuracy)\n",
        "print('Accuracy difference is {}'.format(accuracy_diff))\n",
        "weights_diff = np.abs(best_model_coef - best_model_edited_coef )\n",
        "print('Weights differnece is {}'.format(weights_diff))\n",
        "weight_diff_map = zip(features,weights_diff[0])\n",
        "sorted_weight_diff = sorted(weight_diff_map,key = lambda x:x[1],reverse=True)\n",
        "top_4_features = []\n",
        "for i in sorted_weight_diff[:4]:\n",
        "  top_4_features.append(i[0])\n",
        "print('Top 4 features with difference in weights are {}'.format(top_4_features))\n",
        "\n",
        "sns.barplot(x=features,y=weights_diff[0])\n",
        "plt.title('Feature vs Weight difference Map for Logistic Regression')\n",
        "plt.show()\n"
      ],
      "execution_count": null,
      "outputs": [
        {
          "output_type": "stream",
          "text": [
            "best model weights are [[ 0.50413694 -0.6141252   0.86031522  0.48723515 -0.6141252   0.54238387\n",
            "   0.44482684]]\n",
            "best model edited weights are [[ 0.50422001 -0.61404155  0.86034632  0.48732656 -0.61404155  0.54246886\n",
            "   0.44486885]]\n",
            "Accuracy difference is 0.0\n",
            "Weights differnece is [[8.30683048e-05 8.36590216e-05 3.11049220e-05 9.14082567e-05\n",
            "  8.36590216e-05 8.49952254e-05 4.20165207e-05]]\n",
            "Top 4 features with difference in weights are ['x*x', '2*z+3*x*x', 'y', '2*y']\n"
          ],
          "name": "stdout"
        },
        {
          "output_type": "display_data",
          "data": {
            "image/png": "[encoded data removed]",
            "text/plain": [
              "<Figure size 432x288 with 1 Axes>"
            ]
          },
          "metadata": {
            "tags": [],
            "needs_background": "light"
          }
        }
      ]
    },
    {
      "cell_type": "markdown",
      "metadata": {
        "id": "HGVXmColA1WR"
      },
      "source": [
        "#Observaton:\n",
        "As expected, major features with difference weights are the features which are colinear. such as x*x,2*Y,2*z+3*x*x.\n",
        "\n",
        "Since we added a small weight the values, Now, the colinieality could not be maintained and It gave difference in weights of colinear features.\n",
        "\n",
        "So, We cannot use weights as feature importance values."
      ]
    },
    {
      "cell_type": "markdown",
      "metadata": {
        "id": "EQ9wxQQ64_Mr"
      },
      "source": [
        "#Task 2"
      ]
    },
    {
      "cell_type": "code",
      "metadata": {
        "colab": {
          "base_uri": "https://localhost:8080/",
          "height": 423
        },
        "id": "2A7TNSui5A7j",
        "outputId": "beab5e9a-a8dc-40c7-ae37-03a9f2122558"
      },
      "source": [
        "from sklearn.metrics import accuracy_score\n",
        "hyper_param_dict = {}\n",
        "hyper_param_dict['alpha'] = [0.00001,0.0001,0.001,0.01,0.1,1]\n",
        "\n",
        "clf = SGDClassifier(eta0=0.001,learning_rate='constant',random_state=0,loss='hinge')\n",
        "search = GridSearchCV(clf,hyper_param_dict,scoring='accuracy',cv=5,return_train_score=True)\n",
        "results = search.fit(X,Y)\n",
        "best_estimator = results.best_estimator_\n",
        "best_estimator.fit(X,Y)\n",
        "trainY = best_estimator.predict(X)\n",
        "best_model_accuracy = accuracy_score(Y,trainY)\n",
        "best_model_coef = best_estimator.coef_\n",
        "print('best model weights are {}'.format(best_model_coef))\n",
        "X_dash = X + 0.001\n",
        "best_estimator.fit(X_dash,Y)\n",
        "testY = best_estimator.predict(X_dash)\n",
        "best_model_edited_accuracy = accuracy_score(Y,testY)\n",
        "best_model_edited_coef = best_estimator.coef_\n",
        "print('best model edited  weights are {}'.format(best_model_edited_coef))\n",
        "accuracy_diff = np.abs(best_model_accuracy - best_model_edited_accuracy)\n",
        "print('Accuracy difference is {}'.format(accuracy_diff))\n",
        "weights_diff = np.abs(best_model_coef - best_model_edited_coef )\n",
        "print('Weights differnece is {}'.format(weights_diff))\n",
        "weight_diff_map = zip(features,weights_diff[0])\n",
        "sorted_weight_diff = sorted(weight_diff_map,key = lambda x:x[1],reverse=True)\n",
        "top_4_features = []\n",
        "for i in sorted_weight_diff[:4]:\n",
        "  top_4_features.append(i[0])\n",
        "print('Top 4 features with difference in weights are {}'.format(top_4_features))\n",
        "\n",
        "sns.barplot(x=features,y=weights_diff[0])\n",
        "plt.title('Feature vs Weight difference Map fro SVM')\n",
        "plt.show()"
      ],
      "execution_count": null,
      "outputs": [
        {
          "output_type": "stream",
          "text": [
            "best model weights are [[ 0.24408406 -0.336364    0.51174047  0.23212532 -0.336364    0.27069847\n",
            "   0.21058128]]\n",
            "best model edited  weights are [[ 0.24415806 -0.33629     0.51181447  0.23219932 -0.33629     0.27077247\n",
            "   0.21065528]]\n",
            "Accuracy difference is 0.0\n",
            "Weights differnece is [[7.39992286e-05 7.39992286e-05 7.39992286e-05 7.39992286e-05\n",
            "  7.39992286e-05 7.39992286e-05 7.39992286e-05]]\n",
            "Top 4 features with difference in weights are ['2*z+3*x*x', 'z', 'y', '2*y']\n"
          ],
          "name": "stdout"
        },
        {
          "output_type": "display_data",
          "data": {
            "image/png": "[encoded data removed]",
            "text/plain": [
              "<Figure size 432x288 with 1 Axes>"
            ]
          },
          "metadata": {
            "tags": [],
            "needs_background": "light"
          }
        }
      ]
    },
    {
      "cell_type": "markdown",
      "metadata": {
        "id": "iqXWTs36DXTl"
      },
      "source": [
        "#Observation:"
      ]
    },
    {
      "cell_type": "markdown",
      "metadata": {
        "id": "XhsLpWKwCbep"
      },
      "source": [
        "The difference is same in all the features.\n",
        "\n",
        "It could be because of using SVM, because SVM tries to select a plane with maximum margin.\n",
        "\n",
        "We have added some value to each featue, means we have pushed each value by same quantity in that dimension.\n",
        "\n",
        "So, the new plane which differentiates new edited points also has been pushed by certain fixed quantity.\n",
        "\n",
        "By changing the value added to 0.005, I could see the values have changed like this here also, major difference ie for Non colinear features Z,W,X and only 2*z+3*x*x is the colinear feature. \n",
        "\n",
        "\n",
        "![image.png](data:image/png;base64,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)\n"
      ]
    }
  ]
}