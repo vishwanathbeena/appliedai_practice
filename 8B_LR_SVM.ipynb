{
  "nbformat": 4,
  "nbformat_minor": 0,
  "metadata": {
    "kernelspec": {
      "display_name": "Python 3",
      "language": "python",
      "name": "python3"
    },
    "language_info": {
      "codemirror_mode": {
        "name": "ipython",
        "version": 3
      },
      "file_extension": ".py",
      "mimetype": "text/x-python",
      "name": "python",
      "nbconvert_exporter": "python",
      "pygments_lexer": "ipython3",
      "version": "3.6.8"
    },
    "colab": {
      "name": "8B_LR_SVM.ipynb",
      "provenance": [],
      "collapsed_sections": [],
      "include_colab_link": true
    }
  },
  "cells": [
    {
      "cell_type": "markdown",
      "metadata": {
        "id": "view-in-github",
        "colab_type": "text"
      },
      "source": [
        "<a href=\"https://colab.research.google.com/github/vishwanathbeena/appliedai_practice/blob/main/8B_LR_SVM.ipynb\" target=\"_parent\"><img src=\"https://colab.research.google.com/assets/colab-badge.svg\" alt=\"Open In Colab\"/></a>"
      ]
    },
    {
      "cell_type": "code",
      "metadata": {
        "id": "8ArWK463kbhL",
        "colab": {
          "base_uri": "https://localhost:8080/",
          "height": 17
        },
        "outputId": "1a17a0f8-8ba5-4353-926e-540401d3de71"
      },
      "source": [
        "import numpy as np\n",
        "import pandas as pd\n",
        "import plotly\n",
        "import plotly.figure_factory as ff\n",
        "import plotly.graph_objs as go\n",
        "from sklearn.linear_model import LogisticRegression\n",
        "from sklearn.preprocessing import StandardScaler\n",
        "from sklearn.preprocessing import MinMaxScaler\n",
        "from plotly.offline import download_plotlyjs, init_notebook_mode, plot, iplot\n",
        "init_notebook_mode(connected=True)"
      ],
      "execution_count": null,
      "outputs": [
        {
          "output_type": "display_data",
          "data": {
            "text/html": [
              "        <script type=\"text/javascript\">\n",
              "        window.PlotlyConfig = {MathJaxConfig: 'local'};\n",
              "        if (window.MathJax) {MathJax.Hub.Config({SVG: {font: \"STIX-Web\"}});}\n",
              "        if (typeof require !== 'undefined') {\n",
              "        require.undef(\"plotly\");\n",
              "        requirejs.config({\n",
              "            paths: {\n",
              "                'plotly': ['https://cdn.plot.ly/plotly-latest.min']\n",
              "            }\n",
              "        });\n",
              "        require(['plotly'], function(Plotly) {\n",
              "            window._Plotly = Plotly;\n",
              "        });\n",
              "        }\n",
              "        </script>\n",
              "        "
            ]
          },
          "metadata": {
            "tags": []
          }
        }
      ]
    },
    {
      "cell_type": "code",
      "metadata": {
        "id": "5mldzJdakbhS"
      },
      "source": [
        "data = pd.read_csv('/content/task_b.csv')\n",
        "data=data.iloc[:,1:]"
      ],
      "execution_count": null,
      "outputs": []
    },
    {
      "cell_type": "code",
      "metadata": {
        "scrolled": true,
        "id": "rsCrC2wckbhV",
        "colab": {
          "base_uri": "https://localhost:8080/",
          "height": 200
        },
        "outputId": "a537a630-1b6c-454d-83b4-5345ec2145b8"
      },
      "source": [
        "data.head()"
      ],
      "execution_count": null,
      "outputs": [
        {
          "output_type": "execute_result",
          "data": {
            "text/html": [
              "<div>\n",
              "<style scoped>\n",
              "    .dataframe tbody tr th:only-of-type {\n",
              "        vertical-align: middle;\n",
              "    }\n",
              "\n",
              "    .dataframe tbody tr th {\n",
              "        vertical-align: top;\n",
              "    }\n",
              "\n",
              "    .dataframe thead th {\n",
              "        text-align: right;\n",
              "    }\n",
              "</style>\n",
              "<table border=\"1\" class=\"dataframe\">\n",
              "  <thead>\n",
              "    <tr style=\"text-align: right;\">\n",
              "      <th></th>\n",
              "      <th>f1</th>\n",
              "      <th>f2</th>\n",
              "      <th>f3</th>\n",
              "      <th>y</th>\n",
              "    </tr>\n",
              "  </thead>\n",
              "  <tbody>\n",
              "    <tr>\n",
              "      <th>0</th>\n",
              "      <td>-195.871045</td>\n",
              "      <td>-14843.084171</td>\n",
              "      <td>5.532140</td>\n",
              "      <td>1.0</td>\n",
              "    </tr>\n",
              "    <tr>\n",
              "      <th>1</th>\n",
              "      <td>-1217.183964</td>\n",
              "      <td>-4068.124621</td>\n",
              "      <td>4.416082</td>\n",
              "      <td>1.0</td>\n",
              "    </tr>\n",
              "    <tr>\n",
              "      <th>2</th>\n",
              "      <td>9.138451</td>\n",
              "      <td>4413.412028</td>\n",
              "      <td>0.425317</td>\n",
              "      <td>0.0</td>\n",
              "    </tr>\n",
              "    <tr>\n",
              "      <th>3</th>\n",
              "      <td>363.824242</td>\n",
              "      <td>15474.760647</td>\n",
              "      <td>1.094119</td>\n",
              "      <td>0.0</td>\n",
              "    </tr>\n",
              "    <tr>\n",
              "      <th>4</th>\n",
              "      <td>-768.812047</td>\n",
              "      <td>-7963.932192</td>\n",
              "      <td>1.870536</td>\n",
              "      <td>0.0</td>\n",
              "    </tr>\n",
              "  </tbody>\n",
              "</table>\n",
              "</div>"
            ],
            "text/plain": [
              "            f1            f2        f3    y\n",
              "0  -195.871045 -14843.084171  5.532140  1.0\n",
              "1 -1217.183964  -4068.124621  4.416082  1.0\n",
              "2     9.138451   4413.412028  0.425317  0.0\n",
              "3   363.824242  15474.760647  1.094119  0.0\n",
              "4  -768.812047  -7963.932192  1.870536  0.0"
            ]
          },
          "metadata": {
            "tags": []
          },
          "execution_count": 43
        }
      ]
    },
    {
      "cell_type": "code",
      "metadata": {
        "id": "FI18joJ_kbhZ",
        "colab": {
          "base_uri": "https://localhost:8080/"
        },
        "outputId": "5822a381-451c-4a2d-93b9-aa34ceddd975"
      },
      "source": [
        "data.corr()['y']"
      ],
      "execution_count": null,
      "outputs": [
        {
          "output_type": "execute_result",
          "data": {
            "text/plain": [
              "f1    0.067172\n",
              "f2   -0.017944\n",
              "f3    0.839060\n",
              "y     1.000000\n",
              "Name: y, dtype: float64"
            ]
          },
          "metadata": {
            "tags": []
          },
          "execution_count": 44
        }
      ]
    },
    {
      "cell_type": "code",
      "metadata": {
        "scrolled": true,
        "id": "u40oCVMikbhc",
        "colab": {
          "base_uri": "https://localhost:8080/"
        },
        "outputId": "037fc09e-b7e5-4a70-9532-a715a1c4a68a"
      },
      "source": [
        "data.std()"
      ],
      "execution_count": null,
      "outputs": [
        {
          "output_type": "execute_result",
          "data": {
            "text/plain": [
              "f1      488.195035\n",
              "f2    10403.417325\n",
              "f3        2.926662\n",
              "y         0.501255\n",
              "dtype: float64"
            ]
          },
          "metadata": {
            "tags": []
          },
          "execution_count": 45
        }
      ]
    },
    {
      "cell_type": "code",
      "metadata": {
        "id": "yQIbNaHskbhe",
        "colab": {
          "base_uri": "https://localhost:8080/"
        },
        "outputId": "239f2e35-89f5-416d-9153-5fd16780921c"
      },
      "source": [
        "X=data[['f1','f2','f3']].values\n",
        "Y=data['y'].values\n",
        "print(X.shape)\n",
        "print(Y.shape)"
      ],
      "execution_count": null,
      "outputs": [
        {
          "output_type": "stream",
          "text": [
            "(200, 3)\n",
            "(200,)\n"
          ],
          "name": "stdout"
        }
      ]
    },
    {
      "cell_type": "markdown",
      "metadata": {
        "id": "aUxp9-qEkbhh"
      },
      "source": [
        "# What if our features are with different variance \n",
        "\n",
        "<pre>\n",
        "* <b>As part of this task you will observe how linear models work in case of data having feautres with different variance</b>\n",
        "* <b>from the output of the above cells you can observe that var(F2)>>var(F1)>>Var(F3)</b>\n",
        "\n",
        "> <b>Task1</b>:\n",
        "    1. Apply Logistic regression(SGDClassifier with logloss) on 'data' and check the feature importance\n",
        "    2. Apply SVM(SGDClassifier with hinge) on 'data' and check the feature importance\n",
        "\n",
        "> <b>Task2</b>:\n",
        "    1. Apply Logistic regression(SGDClassifier with logloss) on 'data' after standardization \n",
        "       i.e standardization(data, column wise): (column-mean(column))/std(column) and check the feature importance\n",
        "    2. Apply SVM(SGDClassifier with hinge) on 'data' after standardization \n",
        "       i.e standardization(data, column wise): (column-mean(column))/std(column) and check the feature importance\n",
        "\n",
        "</pre>"
      ]
    },
    {
      "cell_type": "markdown",
      "metadata": {
        "id": "TbMnsrxakbhi"
      },
      "source": [
        "<h3><font color='blue'> Make sure you write the observations for each task, why a particular feautre got more importance than others</font></h3>"
      ]
    },
    {
      "cell_type": "markdown",
      "metadata": {
        "id": "efifEeTU-W1_"
      },
      "source": [
        "#Task-1:"
      ]
    },
    {
      "cell_type": "code",
      "metadata": {
        "id": "5iypSBmO-TXn"
      },
      "source": [
        "from sklearn.linear_model import SGDClassifier"
      ],
      "execution_count": null,
      "outputs": []
    },
    {
      "cell_type": "code",
      "metadata": {
        "colab": {
          "base_uri": "https://localhost:8080/"
        },
        "id": "0Ca2Kf8g-vmS",
        "outputId": "b21230af-b067-4c9a-ea59-8cbd2981e1a6"
      },
      "source": [
        "feature_list = ['f1','f2','f3']\n",
        "clf_lr = SGDClassifier(loss='log')\n",
        "clf_svc = SGDClassifier(loss='hinge')\n",
        "clf_lr.fit(X,Y)\n",
        "clf_svc.fit(X,Y)\n",
        "lr_coef = clf_lr.coef_[0]\n",
        "svc_coef = clf_svc.coef_[0]\n",
        "\n",
        "lr_feature_imp = zip(lr_coef,feature_list)\n",
        "svm_feature_imp = zip(svc_coef,feature_list)\n",
        "\n",
        "print('Logistic regression feature Importance',sorted(list(lr_feature_imp),reverse=True))\n",
        "print('SVC feature Importance',sorted(list(svm_feature_imp),reverse=True))\n"
      ],
      "execution_count": null,
      "outputs": [
        {
          "output_type": "stream",
          "text": [
            "Logistic regression feature Importance [(11173.696469921613, 'f3'), (10431.675690288715, 'f1'), (6219.018638868079, 'f2')]\n",
            "SVC feature Importance [(10714.608363977277, 'f3'), (6977.090724788531, 'f1'), (-2293.9834552887905, 'f2')]\n"
          ],
          "name": "stdout"
        }
      ]
    },
    {
      "cell_type": "markdown",
      "metadata": {
        "id": "6llshVQaD79C"
      },
      "source": [
        "1 .I think, Correleation between f3 and target variable is gigher.So f3 was given greater importance. In both SVM and LR.\n",
        "\n",
        "2.Since Variance of f2 is higher,it has lower corelation to target.So, It was given least feature importance.\n",
        "\n",
        "3.multiple runs give multiple feature importances, Since we are using SGD classifier, the stochastic nature of algorithm is changing the behavior.\n",
        "\n",
        "4.I believe the importance of features is related to correlation between them and target variable.\n"
      ]
    },
    {
      "cell_type": "markdown",
      "metadata": {
        "id": "N2bWP1HTCRuu"
      },
      "source": [
        "#Task-2"
      ]
    },
    {
      "cell_type": "code",
      "metadata": {
        "colab": {
          "base_uri": "https://localhost:8080/"
        },
        "id": "X_WRBBNCCTDq",
        "outputId": "0d156f1e-8380-450a-c287-ba81af2fa1b9"
      },
      "source": [
        "std_scalar = StandardScaler()\n",
        "x_std = std_scalar.fit_transform(X)\n",
        "\n",
        "clf_lr = SGDClassifier(loss='log')\n",
        "clf_svc = SGDClassifier(loss='hinge')\n",
        "clf_lr.fit(x_std,Y)\n",
        "clf_svc.fit(x_std,Y)\n",
        "lr_coef = clf_lr.coef_[0]\n",
        "svc_coef = clf_svc.coef_[0]\n",
        "\n",
        "lr_feature_imp = zip(lr_coef,feature_list)\n",
        "svm_feature_imp = zip(svc_coef,feature_list)\n",
        "\n",
        "print('Logistic regression feature Importance',sorted(list(lr_feature_imp),reverse=True))\n",
        "print('SVC feature Importance',sorted(list(svm_feature_imp),reverse=True))"
      ],
      "execution_count": null,
      "outputs": [
        {
          "output_type": "stream",
          "text": [
            "Logistic regression feature Importance [(14.557137270034186, 'f3'), (2.5129911596660652, 'f2'), (-2.598301400748387, 'f1')]\n",
            "SVC feature Importance [(26.755905731900143, 'f3'), (-4.174198431770457, 'f2'), (-5.994907440126916, 'f1')]\n"
          ],
          "name": "stdout"
        }
      ]
    },
    {
      "cell_type": "markdown",
      "metadata": {
        "id": "9tjIduZ9Ffa2"
      },
      "source": [
        "1 .I think, Correleation between f3 and target variable is gigher.So f3 was given greater importance. In both SVM and LR.\n",
        "\n",
        "2.Since Variance of f2 is higher,it has lower corelation to target.So, It was given least feature importance.\n",
        "\n",
        "3.multiple runs give multiple feature importances, Since we are using SGD classifier, the stochastic nature of algorithm is changing the behavior.\n",
        "\n",
        "4.I believe the importance of features is related to correlation between them and target variable.\n"
      ]
    }
  ]
}